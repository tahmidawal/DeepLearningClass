{
  "cells": [
    {
      "cell_type": "markdown",
      "metadata": {
        "id": "view-in-github",
        "colab_type": "text"
      },
      "source": [
        "<a href=\"https://colab.research.google.com/github/tahmidawal/DeepLearningClass/blob/main/04_AIT_MLP_CIFAR10_exercise.ipynb\" target=\"_parent\"><img src=\"https://colab.research.google.com/assets/colab-badge.svg\" alt=\"Open In Colab\"/></a>"
      ]
    },
    {
      "cell_type": "markdown",
      "metadata": {
        "id": "cW-EyI5Lxpqi"
      },
      "source": [
        "# Copyright\n",
        "\n",
        "<PRE>\n",
        "Copyright (c) 2023 Bálint Gyires-Tóth - All Rights Reserved\n",
        "You may use and modify this code for research and development purpuses.\n",
        "Using this code for educational purposes (self-paced or instructor led) without the permission of the author is prohibited.\n",
        "</PRE>"
      ]
    },
    {
      "cell_type": "markdown",
      "metadata": {
        "id": "3EX4cCa4WKJu"
      },
      "source": [
        "# Example of data exploration, modeling, regulartion and prediction\n",
        "Our exercise today involves loading a standard dataset using TensorFlow Keras API, exploring the data, building a simple neural network, and evaluating the effects of basic methods (activation functions, regularization, weight initialization, etc.). We then perform predictions on the test set and inspect the results. "
      ]
    },
    {
      "cell_type": "markdown",
      "metadata": {
        "id": "yY9fztIeWIKt"
      },
      "source": [
        "# 1. Data\n",
        "The dataset we will use is the well-known CIFAR10 (Canadian Institute For Advanced Research). Explore the details on the Keras website first: https://keras.io/api/datasets/cifar10/\n",
        "\n",
        "After you explored the basic features of the data, let's load it into the memory and explore the shapes:"
      ]
    },
    {
      "cell_type": "code",
      "execution_count": null,
      "metadata": {
        "id": "Zka7rAbX_FE1",
        "outputId": "7d38355f-7435-48bc-ef5b-712863ebaf03"
      },
      "outputs": [
        {
          "name": "stdout",
          "output_type": "stream",
          "text": [
            "Requirement already satisfied: keras in /Users/taawal/Desktop/DataShapes Project/studysession/lib/python3.9/site-packages (2.11.0)\n",
            "\n",
            "\u001b[1m[\u001b[0m\u001b[34;49mnotice\u001b[0m\u001b[1;39;49m]\u001b[0m\u001b[39;49m A new release of pip is available: \u001b[0m\u001b[31;49m23.0\u001b[0m\u001b[39;49m -> \u001b[0m\u001b[32;49m23.0.1\u001b[0m\n",
            "\u001b[1m[\u001b[0m\u001b[34;49mnotice\u001b[0m\u001b[1;39;49m]\u001b[0m\u001b[39;49m To update, run: \u001b[0m\u001b[32;49mpip install --upgrade pip\u001b[0m\n",
            "Requirement already satisfied: tensorflow in /Users/taawal/Desktop/DataShapes Project/studysession/lib/python3.9/site-packages (2.11.0)\n",
            "Requirement already satisfied: gast<=0.4.0,>=0.2.1 in /Users/taawal/Desktop/DataShapes Project/studysession/lib/python3.9/site-packages (from tensorflow) (0.4.0)\n",
            "Requirement already satisfied: keras<2.12,>=2.11.0 in /Users/taawal/Desktop/DataShapes Project/studysession/lib/python3.9/site-packages (from tensorflow) (2.11.0)\n",
            "Requirement already satisfied: opt-einsum>=2.3.2 in /Users/taawal/Desktop/DataShapes Project/studysession/lib/python3.9/site-packages (from tensorflow) (3.3.0)\n",
            "Requirement already satisfied: astunparse>=1.6.0 in /Users/taawal/Desktop/DataShapes Project/studysession/lib/python3.9/site-packages (from tensorflow) (1.6.3)\n",
            "Requirement already satisfied: h5py>=2.9.0 in /Users/taawal/Desktop/DataShapes Project/studysession/lib/python3.9/site-packages (from tensorflow) (3.7.0)\n",
            "Requirement already satisfied: six>=1.12.0 in /Users/taawal/Desktop/DataShapes Project/studysession/lib/python3.9/site-packages (from tensorflow) (1.16.0)\n",
            "Requirement already satisfied: tensorflow-io-gcs-filesystem>=0.23.1 in /Users/taawal/Desktop/DataShapes Project/studysession/lib/python3.9/site-packages (from tensorflow) (0.29.0)\n",
            "Requirement already satisfied: wrapt>=1.11.0 in /Users/taawal/Desktop/DataShapes Project/studysession/lib/python3.9/site-packages (from tensorflow) (1.14.1)\n",
            "Requirement already satisfied: grpcio<2.0,>=1.24.3 in /Users/taawal/Desktop/DataShapes Project/studysession/lib/python3.9/site-packages (from tensorflow) (1.51.1)\n",
            "Requirement already satisfied: termcolor>=1.1.0 in /Users/taawal/Desktop/DataShapes Project/studysession/lib/python3.9/site-packages (from tensorflow) (2.1.1)\n",
            "Requirement already satisfied: google-pasta>=0.1.1 in /Users/taawal/Desktop/DataShapes Project/studysession/lib/python3.9/site-packages (from tensorflow) (0.2.0)\n",
            "Requirement already satisfied: setuptools in /Users/taawal/Desktop/DataShapes Project/studysession/lib/python3.9/site-packages (from tensorflow) (58.1.0)\n",
            "Requirement already satisfied: tensorflow-estimator<2.12,>=2.11.0 in /Users/taawal/Desktop/DataShapes Project/studysession/lib/python3.9/site-packages (from tensorflow) (2.11.0)\n",
            "Requirement already satisfied: packaging in /Users/taawal/Desktop/DataShapes Project/studysession/lib/python3.9/site-packages (from tensorflow) (22.0)\n",
            "Requirement already satisfied: tensorboard<2.12,>=2.11 in /Users/taawal/Desktop/DataShapes Project/studysession/lib/python3.9/site-packages (from tensorflow) (2.11.0)\n",
            "Requirement already satisfied: numpy>=1.20 in /Users/taawal/Desktop/DataShapes Project/studysession/lib/python3.9/site-packages (from tensorflow) (1.24.1)\n",
            "Requirement already satisfied: libclang>=13.0.0 in /Users/taawal/Desktop/DataShapes Project/studysession/lib/python3.9/site-packages (from tensorflow) (14.0.6)\n",
            "Requirement already satisfied: protobuf<3.20,>=3.9.2 in /Users/taawal/Desktop/DataShapes Project/studysession/lib/python3.9/site-packages (from tensorflow) (3.19.6)\n",
            "Requirement already satisfied: absl-py>=1.0.0 in /Users/taawal/Desktop/DataShapes Project/studysession/lib/python3.9/site-packages (from tensorflow) (1.3.0)\n",
            "Requirement already satisfied: typing-extensions>=3.6.6 in /Users/taawal/Desktop/DataShapes Project/studysession/lib/python3.9/site-packages (from tensorflow) (4.4.0)\n",
            "Requirement already satisfied: flatbuffers>=2.0 in /Users/taawal/Desktop/DataShapes Project/studysession/lib/python3.9/site-packages (from tensorflow) (22.12.6)\n",
            "Requirement already satisfied: wheel<1.0,>=0.23.0 in /Users/taawal/Desktop/DataShapes Project/studysession/lib/python3.9/site-packages (from astunparse>=1.6.0->tensorflow) (0.38.4)\n",
            "Requirement already satisfied: werkzeug>=1.0.1 in /Users/taawal/Desktop/DataShapes Project/studysession/lib/python3.9/site-packages (from tensorboard<2.12,>=2.11->tensorflow) (2.2.2)\n",
            "Requirement already satisfied: requests<3,>=2.21.0 in /Users/taawal/Desktop/DataShapes Project/studysession/lib/python3.9/site-packages (from tensorboard<2.12,>=2.11->tensorflow) (2.28.1)\n",
            "Requirement already satisfied: tensorboard-plugin-wit>=1.6.0 in /Users/taawal/Desktop/DataShapes Project/studysession/lib/python3.9/site-packages (from tensorboard<2.12,>=2.11->tensorflow) (1.8.1)\n",
            "Requirement already satisfied: tensorboard-data-server<0.7.0,>=0.6.0 in /Users/taawal/Desktop/DataShapes Project/studysession/lib/python3.9/site-packages (from tensorboard<2.12,>=2.11->tensorflow) (0.6.1)\n",
            "Requirement already satisfied: google-auth-oauthlib<0.5,>=0.4.1 in /Users/taawal/Desktop/DataShapes Project/studysession/lib/python3.9/site-packages (from tensorboard<2.12,>=2.11->tensorflow) (0.4.6)\n",
            "Requirement already satisfied: google-auth<3,>=1.6.3 in /Users/taawal/Desktop/DataShapes Project/studysession/lib/python3.9/site-packages (from tensorboard<2.12,>=2.11->tensorflow) (2.15.0)\n",
            "Requirement already satisfied: markdown>=2.6.8 in /Users/taawal/Desktop/DataShapes Project/studysession/lib/python3.9/site-packages (from tensorboard<2.12,>=2.11->tensorflow) (3.4.1)\n",
            "Requirement already satisfied: rsa<5,>=3.1.4 in /Users/taawal/Desktop/DataShapes Project/studysession/lib/python3.9/site-packages (from google-auth<3,>=1.6.3->tensorboard<2.12,>=2.11->tensorflow) (4.9)\n",
            "Requirement already satisfied: cachetools<6.0,>=2.0.0 in /Users/taawal/Desktop/DataShapes Project/studysession/lib/python3.9/site-packages (from google-auth<3,>=1.6.3->tensorboard<2.12,>=2.11->tensorflow) (5.2.0)\n",
            "Requirement already satisfied: pyasn1-modules>=0.2.1 in /Users/taawal/Desktop/DataShapes Project/studysession/lib/python3.9/site-packages (from google-auth<3,>=1.6.3->tensorboard<2.12,>=2.11->tensorflow) (0.2.8)\n",
            "Requirement already satisfied: requests-oauthlib>=0.7.0 in /Users/taawal/Desktop/DataShapes Project/studysession/lib/python3.9/site-packages (from google-auth-oauthlib<0.5,>=0.4.1->tensorboard<2.12,>=2.11->tensorflow) (1.3.1)\n",
            "Requirement already satisfied: importlib-metadata>=4.4 in /Users/taawal/Desktop/DataShapes Project/studysession/lib/python3.9/site-packages (from markdown>=2.6.8->tensorboard<2.12,>=2.11->tensorflow) (6.0.0)\n",
            "Requirement already satisfied: urllib3<1.27,>=1.21.1 in /Users/taawal/Desktop/DataShapes Project/studysession/lib/python3.9/site-packages (from requests<3,>=2.21.0->tensorboard<2.12,>=2.11->tensorflow) (1.26.13)\n",
            "Requirement already satisfied: certifi>=2017.4.17 in /Users/taawal/Desktop/DataShapes Project/studysession/lib/python3.9/site-packages (from requests<3,>=2.21.0->tensorboard<2.12,>=2.11->tensorflow) (2022.12.7)\n",
            "Requirement already satisfied: idna<4,>=2.5 in /Users/taawal/Desktop/DataShapes Project/studysession/lib/python3.9/site-packages (from requests<3,>=2.21.0->tensorboard<2.12,>=2.11->tensorflow) (3.4)\n",
            "Requirement already satisfied: charset-normalizer<3,>=2 in /Users/taawal/Desktop/DataShapes Project/studysession/lib/python3.9/site-packages (from requests<3,>=2.21.0->tensorboard<2.12,>=2.11->tensorflow) (2.1.1)\n",
            "Requirement already satisfied: MarkupSafe>=2.1.1 in /Users/taawal/Desktop/DataShapes Project/studysession/lib/python3.9/site-packages (from werkzeug>=1.0.1->tensorboard<2.12,>=2.11->tensorflow) (2.1.1)\n",
            "Requirement already satisfied: zipp>=0.5 in /Users/taawal/Desktop/DataShapes Project/studysession/lib/python3.9/site-packages (from importlib-metadata>=4.4->markdown>=2.6.8->tensorboard<2.12,>=2.11->tensorflow) (3.11.0)\n",
            "Requirement already satisfied: pyasn1<0.5.0,>=0.4.6 in /Users/taawal/Desktop/DataShapes Project/studysession/lib/python3.9/site-packages (from pyasn1-modules>=0.2.1->google-auth<3,>=1.6.3->tensorboard<2.12,>=2.11->tensorflow) (0.4.8)\n",
            "Requirement already satisfied: oauthlib>=3.0.0 in /Users/taawal/Desktop/DataShapes Project/studysession/lib/python3.9/site-packages (from requests-oauthlib>=0.7.0->google-auth-oauthlib<0.5,>=0.4.1->tensorboard<2.12,>=2.11->tensorflow) (3.2.2)\n",
            "\n",
            "\u001b[1m[\u001b[0m\u001b[34;49mnotice\u001b[0m\u001b[1;39;49m]\u001b[0m\u001b[39;49m A new release of pip is available: \u001b[0m\u001b[31;49m23.0\u001b[0m\u001b[39;49m -> \u001b[0m\u001b[32;49m23.0.1\u001b[0m\n",
            "\u001b[1m[\u001b[0m\u001b[34;49mnotice\u001b[0m\u001b[1;39;49m]\u001b[0m\u001b[39;49m To update, run: \u001b[0m\u001b[32;49mpip install --upgrade pip\u001b[0m\n"
          ]
        }
      ],
      "source": [
        "!pip install keras\n",
        "!pip install tensorflow"
      ]
    },
    {
      "cell_type": "code",
      "execution_count": null,
      "metadata": {
        "id": "giRZKTjzX_7l",
        "outputId": "2284b45c-5d68-4422-c5f7-bc1aaedc66e1"
      },
      "outputs": [
        {
          "name": "stderr",
          "output_type": "stream",
          "text": [
            "2023-03-06 03:32:00.473413: I tensorflow/core/platform/cpu_feature_guard.cc:193] This TensorFlow binary is optimized with oneAPI Deep Neural Network Library (oneDNN) to use the following CPU instructions in performance-critical operations:  AVX2 FMA\n",
            "To enable them in other operations, rebuild TensorFlow with the appropriate compiler flags.\n"
          ]
        }
      ],
      "source": [
        "from tensorflow.keras.datasets import cifar10\n",
        "from tensorflow.keras.utils import to_categorical\n",
        "import numpy as np"
      ]
    },
    {
      "cell_type": "code",
      "execution_count": null,
      "metadata": {
        "id": "bez7q0eiWQCK"
      },
      "outputs": [],
      "source": [
        "(X_train, Y_train), (X_test, Y_test) = cifar10.load_data()"
      ]
    },
    {
      "cell_type": "code",
      "execution_count": null,
      "metadata": {
        "colab": {
          "base_uri": "https://localhost:8080/"
        },
        "id": "2tJoRq5wXywi",
        "outputId": "a7b8e6de-2a0b-45b9-81e2-bf80fbf8dee7"
      },
      "outputs": [
        {
          "name": "stdout",
          "output_type": "stream",
          "text": [
            "(50000, 32, 32, 3)\n",
            "(10000, 32, 32, 3)\n",
            "(50000, 1)\n",
            "(10000, 1)\n"
          ]
        }
      ],
      "source": [
        "print(X_train.shape)\n",
        "print(X_test.shape)\n",
        "print(Y_train.shape)\n",
        "print(Y_test.shape)"
      ]
    },
    {
      "cell_type": "markdown",
      "metadata": {
        "id": "zTCSGFyDlNvf"
      },
      "source": [
        "## 1.1. Exercise \n",
        "Display the first ten images of the training data. Hints:\n",
        "* Axis 0 refers to the separate images, e.g. X_train[0]\n",
        "* You can use the [Matplotlib Pyplot imshow function](https://matplotlib.org/stable/api/_as_gen/matplotlib.pyplot.imshow.html) for displaying the image. Just don't forget to import Plotly first!\n",
        "* A corresponding example, but you have to modify the code for your purpose: https://stackoverflow.com/questions/46615554/how-to-display-multiple-images-in-one-figure-correctly"
      ]
    },
    {
      "cell_type": "code",
      "execution_count": null,
      "metadata": {
        "id": "hIQhHTppmBdO",
        "outputId": "7d6b3632-e340-427c-9cd7-01c7ad26a0a5"
      },
      "outputs": [
        {
          "data": {
            "image/png": "[encoded data removed]",
            "text/plain": [
              "<Figure size 2000x500 with 10 Axes>"
            ]
          },
          "metadata": {},
          "output_type": "display_data"
        }
      ],
      "source": [
        "import matplotlib.pyplot as plt\n",
        "\n",
        "# Plot the first 10 images in the training set and their labels\n",
        "fig = plt.figure(figsize=(20, 5))\n",
        "for i in range(10):\n",
        "    ax = fig.add_subplot(2, 5, i + 1, xticks=[], yticks=[])\n",
        "    ax.imshow(np.squeeze(X_train[i]))\n",
        "    ax.set_title(str(Y_train[i]))"
      ]
    },
    {
      "cell_type": "markdown",
      "metadata": {
        "id": "FAQkUWlmm-bc"
      },
      "source": [
        "Print the corresponding labels of the displayed images from the target variable (Y_train):"
      ]
    },
    {
      "cell_type": "code",
      "execution_count": null,
      "metadata": {
        "id": "AkOrWzghnJ78",
        "outputId": "583fedc2-cd22-4cf9-a582-e89505ab58ad"
      },
      "outputs": [
        {
          "name": "stdout",
          "output_type": "stream",
          "text": [
            "The labels are:  ['frog', 'truck', 'truck', 'deer', 'automobile', 'automobile', 'bird', 'horse', 'ship', 'cat']\n"
          ]
        }
      ],
      "source": [
        "# Print the label for each class\n",
        "classes = ['airplane', 'automobile', 'bird', 'cat', 'deer', 'dog', 'frog', 'horse', 'ship', 'truck']\n",
        "\n",
        "# Print the labels for the images printed above\n",
        "print('The labels are: ', list(map(lambda x: classes[x], Y_train[:10].squeeze())))"
      ]
    },
    {
      "cell_type": "markdown",
      "metadata": {
        "id": "VX24g5FstsRU"
      },
      "source": [
        "## 1.2. Exercise\n",
        "We will train a Multi-Layer Perceptron (MLP), which requires a 2 dimensional input: 0th axis refers to the datapoints (i.e. images), the 1th dimens to the input. As images are 3 dimensional (width, height, color channels), you have to reshape the images into vectors. We also call this flattening. \n",
        "\n",
        "In order to do so, calculate the size of the equivalent 1D vector of the image:"
      ]
    },
    {
      "cell_type": "code",
      "execution_count": null,
      "metadata": {
        "id": "hdoMyxHzuXZG"
      },
      "outputs": [],
      "source": [
        "# Calulate the flattened dimension of the images\n",
        "flattened_dim = X_train.shape[1] * X_train.shape[2] * X_train.shape[3]"
      ]
    },
    {
      "cell_type": "code",
      "execution_count": null,
      "metadata": {
        "id": "M4SZ4RJV_FE7",
        "outputId": "869b1b08-f2c9-4f82-db33-b344c20e1e00"
      },
      "outputs": [
        {
          "data": {
            "text/plain": [
              "3072"
            ]
          },
          "execution_count": 10,
          "metadata": {},
          "output_type": "execute_result"
        }
      ],
      "source": [
        "flattened_dim"
      ]
    },
    {
      "cell_type": "code",
      "execution_count": null,
      "metadata": {
        "id": "v9Q6Ttyw_FE7",
        "outputId": "16676a43-852d-4eb0-db8e-3ad1e74ace41"
      },
      "outputs": [
        {
          "data": {
            "text/plain": [
              "(50000, 32, 32, 3)"
            ]
          },
          "execution_count": 13,
          "metadata": {},
          "output_type": "execute_result"
        }
      ],
      "source": [
        "X_train.shape"
      ]
    },
    {
      "cell_type": "markdown",
      "metadata": {
        "id": "WbqXJUSFubeC"
      },
      "source": [
        "After you calculated it, we can reshape the images, and covert the integer arrays into float arrays -- which are needed for the neural networks as input. Hint:\n",
        "* in the [reshape() function of Numpy](https://www.w3schools.com/python/numpy/numpy_array_reshape.asp) you can use -1 for one axis, to automatically calculate that value."
      ]
    },
    {
      "cell_type": "code",
      "execution_count": null,
      "metadata": {
        "id": "vukOcBM0XzSj"
      },
      "outputs": [],
      "source": [
        "\n",
        "# reshape 3D tensors to 2D tensors (flattened)\n",
        "# Flatten images in X_train and X_test\n",
        "\n",
        "X_train = X_train.reshape(X_train.shape[0], flattened_dim)\n",
        "X_test = X_test.reshape(X_test.shape[0], flattened_dim)\n",
        "\n",
        "# it is in int8 format, the neural network requires float32\n",
        "X_train = X_train.astype('float32')\n",
        "X_test = X_test.astype('float32')"
      ]
    },
    {
      "cell_type": "markdown",
      "metadata": {
        "id": "DO79AdIdvVfD"
      },
      "source": [
        "## 1.3. Exercise\n",
        "As the next step, let's split the training data into training and validation data. 80% of the original training data should be the final training data, and 20% the validation.\n",
        "You should use Numpy indexing to select the first 80% of X_train as final X_train, and the last 20% as X_valid. Hints: \n",
        "* https://datascienceparichay.com/article/numpy-array-first-n-rows/\n",
        "* https://datascienceparichay.com/article/numpy-array-last-n-rows/"
      ]
    },
    {
      "cell_type": "code",
      "execution_count": null,
      "metadata": {
        "id": "mRwuWxxIxLgN"
      },
      "outputs": [],
      "source": [
        "train_ratio  = 0.8\n",
        "# length of the training data\n",
        "train_length =  int(train_ratio * X_train.shape[0])\n",
        "# where to split the training and validation data\n",
        "train_split  = int(0.8 * train_length)\n",
        "\n",
        "X_valid, Y_valid = X_train[train_split:train_length], Y_train[train_split:train_length]\n",
        "X_train, Y_train = X_train[:train_split], Y_train[:train_split]"
      ]
    },
    {
      "cell_type": "markdown",
      "metadata": {
        "id": "z05y_QWDxWER"
      },
      "source": [
        "## 1.4. Exercise\n",
        "As the last step of input data preparation, the data should be standardized. Calculate the mean and variance of the training data (elementvise -- so for each value of the flattened image you should get a mean and variance for the training data along 0th axis). Hint: \n",
        "* https://stackoverflow.com/questions/70626231/how-to-calculate-mean-variance-standard-deviation-per-index-of-array"
      ]
    },
    {
      "cell_type": "code",
      "execution_count": null,
      "metadata": {
        "id": "TSZbvWCBx8Ea"
      },
      "outputs": [],
      "source": [
        "mean = np.mean(X_train, axis=0)\n",
        "std  = np.std(X_train, axis=0)"
      ]
    },
    {
      "cell_type": "markdown",
      "metadata": {
        "id": "6WRHKkkjyN1S"
      },
      "source": [
        "Next, use the resulting values to standardize the training, validation and test data by substracting the mean and dividing the result with the standard deviation."
      ]
    },
    {
      "cell_type": "code",
      "execution_count": null,
      "metadata": {
        "id": "2ESLP1EIyB2J"
      },
      "outputs": [],
      "source": [
        "X_train = (X_train - mean) / std\n",
        "X_valid = (X_valid - mean) / std\n",
        "X_test  = (X_test - mean) / std"
      ]
    },
    {
      "cell_type": "markdown",
      "metadata": {
        "id": "ooHCnUin7r4o"
      },
      "source": [
        "## 1.5. Exercise\n",
        "And as the last step, convert the dense representation of the classes (i.e. 0,1,2,3...9) to one-hot encoding (0 = [1 0 0 0 0 0 0 0 0 0], 1 = [0 1 0 0 0 0 0 0 0 0] ... 9 = [0 0 0 0 0 0 0 0 0 1]). To do this, first, calculate the number of unique elements in the target training data. Hints:\n",
        "* use the [unique() function](https://numpy.org/doc/stable/reference/generated/numpy.unique.html) of Numpy to list the unique elements\n",
        "* you can count the number of elements in a list with the [len() function](https://www.w3schools.com/python/ref_func_len.asp)"
      ]
    },
    {
      "cell_type": "code",
      "execution_count": null,
      "metadata": {
        "id": "i0LAO9cs8KEE"
      },
      "outputs": [],
      "source": [
        "nb_classes = np.unique(Y_train).shape[0]"
      ]
    },
    {
      "cell_type": "markdown",
      "metadata": {
        "id": "BvM6XhGe8JU9"
      },
      "source": [
        "Doublecheck, if the same number of classes exists in the validation and test target data:"
      ]
    },
    {
      "cell_type": "code",
      "execution_count": null,
      "metadata": {
        "id": "eZFNSsyx_Py2",
        "outputId": "679320e9-40a5-41f5-e9d2-975c3f72909e"
      },
      "outputs": [
        {
          "name": "stdout",
          "output_type": "stream",
          "text": [
            "Validation data has the same number of classes, as the training data: True\n",
            "Test data has the same number of classes, as the training data: True\n"
          ]
        }
      ],
      "source": [
        "print(\"Validation data has the same number of classes, as the training data:\", nb_classes == len(np.unique(Y_valid)))\n",
        "print(\"Test data has the same number of classes, as the training data:\", nb_classes == len(np.unique(Y_test)))"
      ]
    },
    {
      "cell_type": "markdown",
      "metadata": {
        "id": "mJM-iBmR8dLe"
      },
      "source": [
        "And convert the dense representation into one-hot encoding. Hint:\n",
        "* use the [to_categorical function](https://www.tensorflow.org/api_docs/python/tf/keras/utils/to_categorical) with the calculated nb_classes\n"
      ]
    },
    {
      "cell_type": "code",
      "execution_count": null,
      "metadata": {
        "id": "xwZ4OJ6I8lba"
      },
      "outputs": [],
      "source": [
        "Y_train = to_categorical(Y_train, nb_classes)\n",
        "Y_valid = to_categorical(Y_valid, nb_classes)\n",
        "Y_test  = to_categorical(Y_test, nb_classes)"
      ]
    },
    {
      "cell_type": "markdown",
      "metadata": {
        "id": "LshN2OSsv3TZ"
      },
      "source": [
        "## Final check of data preparation\n",
        "Now, lets check the shapes and mean and standard deviation of the training, validation and test data."
      ]
    },
    {
      "cell_type": "code",
      "execution_count": null,
      "metadata": {
        "id": "O_jdJVcvX0vi",
        "outputId": "28d29e98-b07d-4df5-c9b2-3eab663c6ed1"
      },
      "outputs": [
        {
          "name": "stdout",
          "output_type": "stream",
          "text": [
            "Shapes of the training, validation and test input data: (32000, 3072) (8000, 3072) (10000, 3072)\n",
            "Shapes of the training, validation and test output data: (32000, 10) (8000, 10) (10000, 10)\n",
            "Mean values of the training, validation and test input data: -8.178254e-09 -0.0040469966 0.012504252\n",
            "Standard deviation of the training, validation and test input data: 1.000002 0.9919571 0.9962451\n"
          ]
        }
      ],
      "source": [
        "print(\"Shapes of the training, validation and test input data:\", X_train.shape, X_valid.shape, X_test.shape)\n",
        "print(\"Shapes of the training, validation and test output data:\", Y_train.shape, Y_valid.shape, Y_test.shape)\n",
        "print(\"Mean values of the training, validation and test input data:\", X_train.mean(), X_valid.mean(), X_test.mean())\n",
        "print(\"Standard deviation of the training, validation and test input data:\", X_train.std(), X_valid.std(), X_test.std())"
      ]
    },
    {
      "cell_type": "markdown",
      "metadata": {
        "id": "5GtAOOoezmZY"
      },
      "source": [
        "Don't worry, if the mean and standard deviation of the validation and test data are not exactly 0 and 1, but these might be very mear to it (e.g. 0.01 mean, 0.99 variance)."
      ]
    },
    {
      "cell_type": "markdown",
      "metadata": {
        "id": "cJ14oyZExpqj"
      },
      "source": [
        "# 2. Training "
      ]
    },
    {
      "cell_type": "markdown",
      "metadata": {
        "id": "s4ZXYRMBxpql"
      },
      "source": [
        "Let us begin with a simple example of creating a small neural network without regularization and training it with actual data. The purpose of this is to provide you with an example as to how to proceed with the next exercise. "
      ]
    },
    {
      "cell_type": "code",
      "execution_count": null,
      "metadata": {
        "id": "6-8Q6ll7ZDgq"
      },
      "outputs": [],
      "source": [
        "# imports \n",
        "import numpy as np\n",
        "import matplotlib.pyplot as plt\n",
        "from tensorflow.keras.models import Sequential\n",
        "from tensorflow.keras.layers import Dense, Embedding, Flatten, Dropout\n",
        "from tensorflow.keras.initializers import HeNormal\n",
        "from tensorflow.keras.callbacks import EarlyStopping"
      ]
    },
    {
      "cell_type": "code",
      "execution_count": null,
      "metadata": {
        "id": "pke6w3CD8DHp",
        "outputId": "469d50fe-809e-4264-982a-1b588ff70b40"
      },
      "outputs": [
        {
          "name": "stderr",
          "output_type": "stream",
          "text": [
            "2023-03-06 11:38:22.818171: I tensorflow/core/platform/cpu_feature_guard.cc:193] This TensorFlow binary is optimized with oneAPI Deep Neural Network Library (oneDNN) to use the following CPU instructions in performance-critical operations:  AVX2 FMA\n",
            "To enable them in other operations, rebuild TensorFlow with the appropriate compiler flags.\n"
          ]
        }
      ],
      "source": [
        "# model definition\n",
        "model = Sequential()\n",
        "model.add(Dense(128, activation='tanh', input_shape=(flattened_dim,)))\n",
        "model.add(Dense(128, activation='tanh'))\n",
        "model.add(Dense(nb_classes, activation='softmax'))\n",
        "\n",
        "# loss function and optimizer\n",
        "model.compile(loss='categorical_crossentropy', optimizer='adam', metrics=['accuracy'])"
      ]
    },
    {
      "cell_type": "code",
      "execution_count": null,
      "metadata": {
        "id": "CZbOR76QxprC",
        "outputId": "723311d9-5b68-4c3e-90af-cf4b8e0abe59"
      },
      "outputs": [
        {
          "name": "stdout",
          "output_type": "stream",
          "text": [
            "Epoch 1/40\n",
            "250/250 [==============================] - 4s 7ms/step - loss: 1.8289 - accuracy: 0.3581 - val_loss: 1.7630 - val_accuracy: 0.3887\n",
            "Epoch 2/40\n",
            "250/250 [==============================] - 1s 6ms/step - loss: 1.6932 - accuracy: 0.4077 - val_loss: 1.7340 - val_accuracy: 0.3951\n",
            "Epoch 3/40\n",
            "250/250 [==============================] - 1s 5ms/step - loss: 1.6427 - accuracy: 0.4298 - val_loss: 1.7036 - val_accuracy: 0.4153\n",
            "Epoch 4/40\n",
            "250/250 [==============================] - 1s 6ms/step - loss: 1.5955 - accuracy: 0.4467 - val_loss: 1.6868 - val_accuracy: 0.4155\n",
            "Epoch 5/40\n",
            "250/250 [==============================] - 1s 6ms/step - loss: 1.5613 - accuracy: 0.4585 - val_loss: 1.6923 - val_accuracy: 0.4137\n",
            "Epoch 6/40\n",
            "250/250 [==============================] - 1s 5ms/step - loss: 1.5267 - accuracy: 0.4713 - val_loss: 1.6836 - val_accuracy: 0.4171\n",
            "Epoch 7/40\n",
            "250/250 [==============================] - 1s 5ms/step - loss: 1.4990 - accuracy: 0.4803 - val_loss: 1.6620 - val_accuracy: 0.4281\n",
            "Epoch 8/40\n",
            "250/250 [==============================] - 2s 8ms/step - loss: 1.4736 - accuracy: 0.4909 - val_loss: 1.6783 - val_accuracy: 0.4207\n",
            "Epoch 9/40\n",
            "250/250 [==============================] - 2s 6ms/step - loss: 1.4510 - accuracy: 0.4958 - val_loss: 1.6606 - val_accuracy: 0.4286\n",
            "Epoch 10/40\n",
            "250/250 [==============================] - 1s 6ms/step - loss: 1.4247 - accuracy: 0.5093 - val_loss: 1.6679 - val_accuracy: 0.4339\n",
            "Epoch 11/40\n",
            "250/250 [==============================] - 1s 6ms/step - loss: 1.3850 - accuracy: 0.5205 - val_loss: 1.6503 - val_accuracy: 0.4370\n",
            "Epoch 12/40\n",
            "250/250 [==============================] - 1s 5ms/step - loss: 1.3734 - accuracy: 0.5247 - val_loss: 1.6549 - val_accuracy: 0.4340\n",
            "Epoch 13/40\n",
            "250/250 [==============================] - 1s 5ms/step - loss: 1.3452 - accuracy: 0.5357 - val_loss: 1.6352 - val_accuracy: 0.4504\n",
            "Epoch 14/40\n",
            "250/250 [==============================] - 1s 5ms/step - loss: 1.3184 - accuracy: 0.5415 - val_loss: 1.6678 - val_accuracy: 0.4378\n",
            "Epoch 15/40\n",
            "250/250 [==============================] - 1s 5ms/step - loss: 1.2959 - accuracy: 0.5514 - val_loss: 1.6614 - val_accuracy: 0.4379\n",
            "Epoch 16/40\n",
            "250/250 [==============================] - 1s 5ms/step - loss: 1.2718 - accuracy: 0.5593 - val_loss: 1.6630 - val_accuracy: 0.4389\n",
            "Epoch 17/40\n",
            "250/250 [==============================] - 1s 5ms/step - loss: 1.2479 - accuracy: 0.5663 - val_loss: 1.6640 - val_accuracy: 0.4453\n",
            "Epoch 18/40\n",
            "250/250 [==============================] - 1s 5ms/step - loss: 1.2201 - accuracy: 0.5794 - val_loss: 1.6662 - val_accuracy: 0.4485\n",
            "Epoch 19/40\n",
            "250/250 [==============================] - 1s 5ms/step - loss: 1.2010 - accuracy: 0.5844 - val_loss: 1.6915 - val_accuracy: 0.4369\n",
            "Epoch 20/40\n",
            "250/250 [==============================] - 1s 5ms/step - loss: 1.1766 - accuracy: 0.5939 - val_loss: 1.6849 - val_accuracy: 0.4491\n",
            "Epoch 21/40\n",
            "250/250 [==============================] - 1s 5ms/step - loss: 1.1526 - accuracy: 0.6023 - val_loss: 1.7154 - val_accuracy: 0.4415\n",
            "Epoch 22/40\n",
            "250/250 [==============================] - 1s 6ms/step - loss: 1.1325 - accuracy: 0.6092 - val_loss: 1.7194 - val_accuracy: 0.4364\n",
            "Epoch 23/40\n",
            "250/250 [==============================] - 1s 6ms/step - loss: 1.1172 - accuracy: 0.6163 - val_loss: 1.7085 - val_accuracy: 0.4381\n",
            "Epoch 24/40\n",
            "250/250 [==============================] - 1s 5ms/step - loss: 1.0920 - accuracy: 0.6243 - val_loss: 1.7261 - val_accuracy: 0.4410\n",
            "Epoch 25/40\n",
            "250/250 [==============================] - 1s 5ms/step - loss: 1.0701 - accuracy: 0.6310 - val_loss: 1.7504 - val_accuracy: 0.4381\n",
            "Epoch 26/40\n",
            "250/250 [==============================] - 1s 5ms/step - loss: 1.0451 - accuracy: 0.6426 - val_loss: 1.7469 - val_accuracy: 0.4375\n",
            "Epoch 27/40\n",
            "250/250 [==============================] - 1s 5ms/step - loss: 1.0174 - accuracy: 0.6529 - val_loss: 1.7691 - val_accuracy: 0.4355\n",
            "Epoch 28/40\n",
            "250/250 [==============================] - 1s 6ms/step - loss: 1.0028 - accuracy: 0.6566 - val_loss: 1.8064 - val_accuracy: 0.4325\n",
            "Epoch 29/40\n",
            "250/250 [==============================] - 2s 6ms/step - loss: 0.9911 - accuracy: 0.6646 - val_loss: 1.8056 - val_accuracy: 0.4360\n",
            "Epoch 30/40\n",
            "250/250 [==============================] - 2s 10ms/step - loss: 0.9869 - accuracy: 0.6602 - val_loss: 1.8188 - val_accuracy: 0.4317\n",
            "Epoch 31/40\n",
            "250/250 [==============================] - 3s 11ms/step - loss: 0.9521 - accuracy: 0.6770 - val_loss: 1.8161 - val_accuracy: 0.4385\n",
            "Epoch 32/40\n",
            "250/250 [==============================] - 3s 14ms/step - loss: 0.9191 - accuracy: 0.6872 - val_loss: 1.8421 - val_accuracy: 0.4305\n",
            "Epoch 33/40\n",
            "250/250 [==============================] - 4s 14ms/step - loss: 0.9143 - accuracy: 0.6872 - val_loss: 1.8594 - val_accuracy: 0.4310\n",
            "Epoch 34/40\n",
            "250/250 [==============================] - 3s 12ms/step - loss: 0.8945 - accuracy: 0.6939 - val_loss: 1.8754 - val_accuracy: 0.4324\n",
            "Epoch 35/40\n",
            "250/250 [==============================] - 2s 7ms/step - loss: 0.8759 - accuracy: 0.7015 - val_loss: 1.8897 - val_accuracy: 0.4313\n",
            "Epoch 36/40\n",
            "250/250 [==============================] - 1s 6ms/step - loss: 0.8423 - accuracy: 0.7156 - val_loss: 1.9113 - val_accuracy: 0.4305\n",
            "Epoch 37/40\n",
            "250/250 [==============================] - 1s 6ms/step - loss: 0.8324 - accuracy: 0.7188 - val_loss: 1.9299 - val_accuracy: 0.4365\n",
            "Epoch 38/40\n",
            "250/250 [==============================] - 2s 8ms/step - loss: 0.8166 - accuracy: 0.7252 - val_loss: 1.9653 - val_accuracy: 0.4300\n",
            "Epoch 39/40\n",
            "250/250 [==============================] - 2s 6ms/step - loss: 0.7974 - accuracy: 0.7310 - val_loss: 1.9564 - val_accuracy: 0.4261\n",
            "Epoch 40/40\n",
            "250/250 [==============================] - 1s 5ms/step - loss: 0.7949 - accuracy: 0.7330 - val_loss: 1.9995 - val_accuracy: 0.4236\n"
          ]
        }
      ],
      "source": [
        "# training\n",
        "network_history = model.fit(X_train, Y_train, \n",
        "                            validation_data=(X_valid,Y_valid),\n",
        "                            batch_size=128,                             \n",
        "                            epochs=40, \n",
        "                            verbose=1)"
      ]
    },
    {
      "cell_type": "markdown",
      "metadata": {
        "id": "uFqhzV85xprJ"
      },
      "source": [
        "Let's plot the training and validation loss and accuracy curves:"
      ]
    },
    {
      "cell_type": "code",
      "execution_count": null,
      "metadata": {
        "id": "BYmXGkLCxprK",
        "outputId": "3b688233-9d08-4ff0-c571-ae049482495b"
      },
      "outputs": [
        {
          "data": {
            "image/png": "[encoded data removed]",
            "text/plain": [
              "<Figure size 640x480 with 1 Axes>"
            ]
          },
          "metadata": {},
          "output_type": "display_data"
        },
        {
          "data": {
            "image/png": "[encoded data removed]",
            "text/plain": [
              "<Figure size 640x480 with 1 Axes>"
            ]
          },
          "metadata": {},
          "output_type": "display_data"
        }
      ],
      "source": [
        "def plot_history(network_history):\n",
        "    plt.figure()\n",
        "    plt.xlabel('Epochs')\n",
        "    plt.ylabel('Loss')\n",
        "    plt.plot(network_history.history['loss'])\n",
        "    plt.plot(network_history.history['val_loss'])\n",
        "    plt.legend(['Training', 'Validation'])\n",
        "\n",
        "    plt.figure()\n",
        "    plt.xlabel('Epochs')\n",
        "    plt.ylabel('Accuracy')\n",
        "    plt.plot(network_history.history['accuracy'])\n",
        "    plt.plot(network_history.history['val_accuracy'])\n",
        "    plt.legend(['Training', 'Validation'], loc='lower right')\n",
        "    plt.show()\n",
        "\n",
        "plot_history(network_history)"
      ]
    },
    {
      "cell_type": "markdown",
      "metadata": {
        "id": "tgG7QeXF-dx6"
      },
      "source": [
        "What do you think? Does it overfit? "
      ]
    },
    {
      "cell_type": "markdown",
      "metadata": {
        "id": "8_iZZhwU_FFC"
      },
      "source": [
        "Yes, as I am observing the plot, I see that there is overfitting. "
      ]
    },
    {
      "cell_type": "markdown",
      "metadata": {
        "id": "_Q9rIeBBxprO"
      },
      "source": [
        "# Inspecting the model"
      ]
    },
    {
      "cell_type": "code",
      "execution_count": null,
      "metadata": {
        "id": "6r2AmmoMxprP",
        "outputId": "42ddf2e4-9cb2-47af-c778-96114212d16e"
      },
      "outputs": [
        {
          "name": "stdout",
          "output_type": "stream",
          "text": [
            "Model: \"sequential\"\n",
            "_________________________________________________________________\n",
            " Layer (type)                Output Shape              Param #   \n",
            "=================================================================\n",
            " dense (Dense)               (None, 128)               393344    \n",
            "                                                                 \n",
            " dense_1 (Dense)             (None, 128)               16512     \n",
            "                                                                 \n",
            " dense_2 (Dense)             (None, 10)                1290      \n",
            "                                                                 \n",
            "=================================================================\n",
            "Total params: 411,146\n",
            "Trainable params: 411,146\n",
            "Non-trainable params: 0\n",
            "_________________________________________________________________\n"
          ]
        }
      ],
      "source": [
        "model.summary()"
      ]
    },
    {
      "cell_type": "code",
      "execution_count": null,
      "metadata": {
        "id": "D3-bVDVuxprS",
        "outputId": "9a515d16-8526-40db-f4e6-2312152697eb"
      },
      "outputs": [
        {
          "name": "stdout",
          "output_type": "stream",
          "text": [
            "Input:  KerasTensor(type_spec=TensorSpec(shape=(None, 3072), dtype=tf.float32, name='dense_input'), name='dense_input', description=\"created by layer 'dense_input'\")\n"
          ]
        }
      ],
      "source": [
        "print('Input: ', model.input)"
      ]
    },
    {
      "cell_type": "code",
      "execution_count": null,
      "metadata": {
        "id": "Da2OJ3DmxprX",
        "outputId": "5bb5b8e4-3501-4c55-efe0-7476312db182"
      },
      "outputs": [
        {
          "name": "stdout",
          "output_type": "stream",
          "text": [
            "Layers:\n",
            "\n",
            "Layer's name:  dense , trainable:  True\n",
            "{'name': 'dense', 'trainable': True, 'dtype': 'float32', 'batch_input_shape': (None, 3072), 'units': 128, 'activation': 'tanh', 'use_bias': True, 'kernel_initializer': {'class_name': 'GlorotUniform', 'config': {'seed': None}}, 'bias_initializer': {'class_name': 'Zeros', 'config': {}}, 'kernel_regularizer': None, 'bias_regularizer': None, 'activity_regularizer': None, 'kernel_constraint': None, 'bias_constraint': None} \n",
            "\n",
            "Layer's name:  dense_1 , trainable:  True\n",
            "{'name': 'dense_1', 'trainable': True, 'dtype': 'float32', 'units': 128, 'activation': 'tanh', 'use_bias': True, 'kernel_initializer': {'class_name': 'GlorotUniform', 'config': {'seed': None}}, 'bias_initializer': {'class_name': 'Zeros', 'config': {}}, 'kernel_regularizer': None, 'bias_regularizer': None, 'activity_regularizer': None, 'kernel_constraint': None, 'bias_constraint': None} \n",
            "\n",
            "Layer's name:  dense_2 , trainable:  True\n",
            "{'name': 'dense_2', 'trainable': True, 'dtype': 'float32', 'units': 10, 'activation': 'softmax', 'use_bias': True, 'kernel_initializer': {'class_name': 'GlorotUniform', 'config': {'seed': None}}, 'bias_initializer': {'class_name': 'Zeros', 'config': {}}, 'kernel_regularizer': None, 'bias_regularizer': None, 'activity_regularizer': None, 'kernel_constraint': None, 'bias_constraint': None} \n",
            "\n"
          ]
        }
      ],
      "source": [
        "print('Layers:\\n')\n",
        "for layer in model.layers:\n",
        "    print(\"Layer's name: \", layer.name, ', trainable: ', layer.trainable)\n",
        "    print(layer.get_config(),'\\n')"
      ]
    },
    {
      "cell_type": "code",
      "execution_count": null,
      "metadata": {
        "id": "AtVX3M3lxprc",
        "outputId": "7be03f41-9302-491e-e9e2-ee3f2588d72b"
      },
      "outputs": [
        {
          "name": "stdout",
          "output_type": "stream",
          "text": [
            "Output:  KerasTensor(type_spec=TensorSpec(shape=(None, 10), dtype=tf.float32, name=None), name='dense_2/Softmax:0', description=\"created by layer 'dense_2'\")\n"
          ]
        }
      ],
      "source": [
        "print('Output: ', model.output)"
      ]
    },
    {
      "cell_type": "markdown",
      "metadata": {
        "id": "E-hHfs9qA_iO"
      },
      "source": [
        "## 2.1. Exercise\n",
        "Introduce [early stopping](https://www.tensorflow.org/api_docs/python/tf/keras/callbacks/EarlyStopping) and [dropout](https://www.tensorflow.org/api_docs/python/tf/keras/layers/Dropout) with a rate between 0.1..0.5. Tips:\n",
        "\n",
        "* Insert the dropout layer between the two Dense layers. \n",
        "* Set the patience of early stopping to 5.\n",
        "* Set the number of epochs to a very high number.\n",
        "* Don't forget to restore best weights after early stopping. \n",
        "* And also set early stopping to monitor validation accuracy (the default value is validation loss -- which is categorical crossentropy now).\n",
        "\n",
        "Compile and train the model. Attempt to increase the validation accuracy as much as possible by making changes to the dropout rate. Inspect the effects of the modifications."
      ]
    },
    {
      "cell_type": "code",
      "execution_count": null,
      "metadata": {
        "id": "NwXrPzOgEBG-"
      },
      "outputs": [],
      "source": [
        "es = EarlyStopping(monitor='val_loss', mode='min', verbose=3, patience=5, restore_best_weights=True)"
      ]
    },
    {
      "cell_type": "code",
      "execution_count": null,
      "metadata": {
        "id": "7hZEGzj8GFwP"
      },
      "outputs": [],
      "source": [
        "# model definition with dropout\n",
        "model = Sequential()\n",
        "model.add(Dense(128, activation='tanh', input_shape=(flattened_dim,)))\n",
        "# Implement dropout\n",
        "model.add(Dropout(0.2))\n",
        "model.add(Dense(128, activation='tanh'))\n",
        "model.add(Dense(nb_classes, activation='softmax'))\n",
        "\n",
        "# loss function and optimizer\n",
        "model.compile(loss='categorical_crossentropy', optimizer='adam', metrics=['accuracy'])"
      ]
    },
    {
      "cell_type": "code",
      "execution_count": null,
      "metadata": {
        "id": "GCG54R-vGGWj",
        "outputId": "cce2a1c7-feb3-47d5-c292-4133a074da9f"
      },
      "outputs": [
        {
          "name": "stdout",
          "output_type": "stream",
          "text": [
            "Epoch 1/100\n",
            "250/250 [==============================] - 4s 8ms/step - loss: 1.8819 - accuracy: 0.3366 - val_loss: 1.7856 - val_accuracy: 0.3840\n",
            "Epoch 2/100\n",
            "250/250 [==============================] - 1s 5ms/step - loss: 1.7559 - accuracy: 0.3835 - val_loss: 1.7445 - val_accuracy: 0.3957\n",
            "Epoch 3/100\n",
            "250/250 [==============================] - 1s 5ms/step - loss: 1.7093 - accuracy: 0.4025 - val_loss: 1.7168 - val_accuracy: 0.4049\n",
            "Epoch 4/100\n",
            "250/250 [==============================] - 2s 6ms/step - loss: 1.6726 - accuracy: 0.4134 - val_loss: 1.7080 - val_accuracy: 0.4079\n",
            "Epoch 5/100\n",
            "250/250 [==============================] - 1s 5ms/step - loss: 1.6414 - accuracy: 0.4287 - val_loss: 1.6843 - val_accuracy: 0.4195\n",
            "Epoch 6/100\n",
            "250/250 [==============================] - 1s 5ms/step - loss: 1.6189 - accuracy: 0.4356 - val_loss: 1.6648 - val_accuracy: 0.4351\n",
            "Epoch 7/100\n",
            "250/250 [==============================] - 1s 5ms/step - loss: 1.6087 - accuracy: 0.4417 - val_loss: 1.6540 - val_accuracy: 0.4340\n",
            "Epoch 8/100\n",
            "250/250 [==============================] - 2s 9ms/step - loss: 1.5819 - accuracy: 0.4513 - val_loss: 1.6430 - val_accuracy: 0.4299\n",
            "Epoch 9/100\n",
            "250/250 [==============================] - 1s 6ms/step - loss: 1.5579 - accuracy: 0.4592 - val_loss: 1.6332 - val_accuracy: 0.4353\n",
            "Epoch 10/100\n",
            "250/250 [==============================] - 1s 5ms/step - loss: 1.5461 - accuracy: 0.4604 - val_loss: 1.6284 - val_accuracy: 0.4394\n",
            "Epoch 11/100\n",
            "250/250 [==============================] - 1s 5ms/step - loss: 1.5279 - accuracy: 0.4712 - val_loss: 1.6162 - val_accuracy: 0.4404\n",
            "Epoch 12/100\n",
            "250/250 [==============================] - 1s 5ms/step - loss: 1.5074 - accuracy: 0.4769 - val_loss: 1.6088 - val_accuracy: 0.4449\n",
            "Epoch 13/100\n",
            "250/250 [==============================] - 1s 5ms/step - loss: 1.5016 - accuracy: 0.4815 - val_loss: 1.6133 - val_accuracy: 0.4449\n",
            "Epoch 14/100\n",
            "250/250 [==============================] - 1s 5ms/step - loss: 1.4812 - accuracy: 0.4839 - val_loss: 1.6066 - val_accuracy: 0.4485\n",
            "Epoch 15/100\n",
            "250/250 [==============================] - 1s 5ms/step - loss: 1.4646 - accuracy: 0.4908 - val_loss: 1.5970 - val_accuracy: 0.4520\n",
            "Epoch 16/100\n",
            "250/250 [==============================] - 1s 5ms/step - loss: 1.4460 - accuracy: 0.4972 - val_loss: 1.5904 - val_accuracy: 0.4524\n",
            "Epoch 17/100\n",
            "250/250 [==============================] - 1s 5ms/step - loss: 1.4316 - accuracy: 0.5025 - val_loss: 1.5952 - val_accuracy: 0.4575\n",
            "Epoch 18/100\n",
            "250/250 [==============================] - 1s 5ms/step - loss: 1.4207 - accuracy: 0.5051 - val_loss: 1.5863 - val_accuracy: 0.4490\n",
            "Epoch 19/100\n",
            "250/250 [==============================] - 2s 9ms/step - loss: 1.4062 - accuracy: 0.5073 - val_loss: 1.5840 - val_accuracy: 0.4538\n",
            "Epoch 20/100\n",
            "250/250 [==============================] - 3s 10ms/step - loss: 1.4023 - accuracy: 0.5096 - val_loss: 1.5737 - val_accuracy: 0.4599\n",
            "Epoch 21/100\n",
            "250/250 [==============================] - 1s 5ms/step - loss: 1.3867 - accuracy: 0.5160 - val_loss: 1.5744 - val_accuracy: 0.4638\n",
            "Epoch 22/100\n",
            "250/250 [==============================] - 1s 5ms/step - loss: 1.3696 - accuracy: 0.5230 - val_loss: 1.5679 - val_accuracy: 0.4610\n",
            "Epoch 23/100\n",
            "250/250 [==============================] - 1s 5ms/step - loss: 1.3705 - accuracy: 0.5204 - val_loss: 1.5652 - val_accuracy: 0.4629\n",
            "Epoch 24/100\n",
            "250/250 [==============================] - 2s 6ms/step - loss: 1.3602 - accuracy: 0.5246 - val_loss: 1.5823 - val_accuracy: 0.4579\n",
            "Epoch 25/100\n",
            "250/250 [==============================] - 1s 5ms/step - loss: 1.3474 - accuracy: 0.5297 - val_loss: 1.5828 - val_accuracy: 0.4597\n",
            "Epoch 26/100\n",
            "250/250 [==============================] - 1s 5ms/step - loss: 1.3353 - accuracy: 0.5324 - val_loss: 1.5722 - val_accuracy: 0.4642\n",
            "Epoch 27/100\n",
            "250/250 [==============================] - 1s 5ms/step - loss: 1.3273 - accuracy: 0.5364 - val_loss: 1.5590 - val_accuracy: 0.4582\n",
            "Epoch 28/100\n",
            "250/250 [==============================] - 1s 5ms/step - loss: 1.3074 - accuracy: 0.5421 - val_loss: 1.5583 - val_accuracy: 0.4721\n",
            "Epoch 29/100\n",
            "250/250 [==============================] - 1s 5ms/step - loss: 1.3083 - accuracy: 0.5412 - val_loss: 1.5535 - val_accuracy: 0.4618\n",
            "Epoch 30/100\n",
            "250/250 [==============================] - 1s 5ms/step - loss: 1.2947 - accuracy: 0.5483 - val_loss: 1.5682 - val_accuracy: 0.4664\n",
            "Epoch 31/100\n",
            "250/250 [==============================] - 1s 5ms/step - loss: 1.2915 - accuracy: 0.5489 - val_loss: 1.5681 - val_accuracy: 0.4649\n",
            "Epoch 32/100\n",
            "250/250 [==============================] - 1s 5ms/step - loss: 1.2852 - accuracy: 0.5499 - val_loss: 1.5656 - val_accuracy: 0.4676\n",
            "Epoch 33/100\n",
            "250/250 [==============================] - 2s 7ms/step - loss: 1.2693 - accuracy: 0.5538 - val_loss: 1.5712 - val_accuracy: 0.4650\n",
            "Epoch 34/100\n",
            "248/250 [============================>.] - ETA: 0s - loss: 1.2686 - accuracy: 0.5572Restoring model weights from the end of the best epoch: 29.\n",
            "250/250 [==============================] - 2s 9ms/step - loss: 1.2686 - accuracy: 0.5572 - val_loss: 1.5629 - val_accuracy: 0.4695\n",
            "Epoch 34: early stopping\n"
          ]
        }
      ],
      "source": [
        "# training with early stopping\n",
        "network_history = model.fit(X_train, Y_train, \n",
        "                            validation_data=(X_valid,Y_valid),\n",
        "                            batch_size=128,                             \n",
        "                            epochs=100, \n",
        "                            verbose=1, \n",
        "                            callbacks=[es]\n",
        "                            )"
      ]
    },
    {
      "cell_type": "markdown",
      "metadata": {
        "id": "zQCDM1o1BBtF"
      },
      "source": [
        "## 2.2 Exercise\n",
        "Change the [activation function of the dense layers (except the last one)](https://www.tensorflow.org/api_docs/python/tf/keras/layers/Dense) to rectified linear unit (ReLU) and the [weight initialization](https://www.tensorflow.org/api_docs/python/tf/keras/initializers) to the theoretically best one. Use the original model's code.\n",
        "\n",
        "Compile and train the model. Inspect the effects of the modifications."
      ]
    },
    {
      "cell_type": "code",
      "execution_count": null,
      "metadata": {
        "id": "YjHAAh-wGu9O"
      },
      "outputs": [],
      "source": [
        "# model definition with relu\n",
        "from tensorflow.keras.initializers import HeUniform\n",
        "\n",
        "model = Sequential()\n",
        "model.add(Dense(128, activation='relu', kernel_initializer=HeUniform(), input_shape=(flattened_dim,)))\n",
        "model.add(Dense(128, activation='relu', kernel_initializer=HeUniform()))\n",
        "model.add(Dense(nb_classes, activation='softmax'))\n",
        "\n",
        "# loss function and optimizer\n",
        "model.compile(loss='categorical_crossentropy', optimizer='adam', metrics=['accuracy'])"
      ]
    },
    {
      "cell_type": "code",
      "execution_count": null,
      "metadata": {
        "id": "rarwKM1wGxMz",
        "outputId": "4a3a1ffb-1616-4357-97ad-d18fd932b9d6"
      },
      "outputs": [
        {
          "name": "stdout",
          "output_type": "stream",
          "text": [
            "Epoch 1/40\n",
            "250/250 [==============================] - 2s 8ms/step - loss: 1.2413 - accuracy: 0.5553 - val_loss: 1.4226 - val_accuracy: 0.4961\n",
            "Epoch 2/40\n",
            "250/250 [==============================] - 2s 7ms/step - loss: 1.2287 - accuracy: 0.5608 - val_loss: 1.4063 - val_accuracy: 0.5044\n",
            "Epoch 3/40\n",
            "250/250 [==============================] - 1s 5ms/step - loss: 1.2181 - accuracy: 0.5635 - val_loss: 1.4067 - val_accuracy: 0.5073\n",
            "Epoch 4/40\n",
            "250/250 [==============================] - 1s 6ms/step - loss: 1.2038 - accuracy: 0.5660 - val_loss: 1.4153 - val_accuracy: 0.5041\n",
            "Epoch 5/40\n",
            "250/250 [==============================] - 1s 6ms/step - loss: 1.1919 - accuracy: 0.5719 - val_loss: 1.4172 - val_accuracy: 0.5086\n",
            "Epoch 6/40\n",
            "250/250 [==============================] - 2s 6ms/step - loss: 1.1815 - accuracy: 0.5775 - val_loss: 1.4141 - val_accuracy: 0.5011\n",
            "Epoch 7/40\n",
            "250/250 [==============================] - 1s 6ms/step - loss: 1.1734 - accuracy: 0.5783 - val_loss: 1.3980 - val_accuracy: 0.5136\n",
            "Epoch 8/40\n",
            "250/250 [==============================] - 1s 5ms/step - loss: 1.1689 - accuracy: 0.5820 - val_loss: 1.4042 - val_accuracy: 0.5111\n",
            "Epoch 9/40\n",
            "250/250 [==============================] - 1s 6ms/step - loss: 1.1514 - accuracy: 0.5878 - val_loss: 1.3947 - val_accuracy: 0.5065\n",
            "Epoch 10/40\n",
            "250/250 [==============================] - 2s 6ms/step - loss: 1.1531 - accuracy: 0.5866 - val_loss: 1.3941 - val_accuracy: 0.5095\n",
            "Epoch 11/40\n",
            "250/250 [==============================] - 1s 5ms/step - loss: 1.1385 - accuracy: 0.5927 - val_loss: 1.4086 - val_accuracy: 0.5128\n",
            "Epoch 12/40\n",
            "250/250 [==============================] - 2s 7ms/step - loss: 1.1301 - accuracy: 0.5961 - val_loss: 1.3961 - val_accuracy: 0.5128\n",
            "Epoch 13/40\n",
            "250/250 [==============================] - 2s 6ms/step - loss: 1.1252 - accuracy: 0.5953 - val_loss: 1.4020 - val_accuracy: 0.5141\n",
            "Epoch 14/40\n",
            "250/250 [==============================] - 1s 5ms/step - loss: 1.1158 - accuracy: 0.5987 - val_loss: 1.4263 - val_accuracy: 0.5089\n",
            "Epoch 15/40\n",
            "250/250 [==============================] - 1s 5ms/step - loss: 1.1051 - accuracy: 0.6021 - val_loss: 1.4024 - val_accuracy: 0.5117\n",
            "Epoch 16/40\n",
            "250/250 [==============================] - 1s 5ms/step - loss: 1.1003 - accuracy: 0.6053 - val_loss: 1.4020 - val_accuracy: 0.5197\n",
            "Epoch 17/40\n",
            "250/250 [==============================] - 2s 7ms/step - loss: 1.0875 - accuracy: 0.6075 - val_loss: 1.4128 - val_accuracy: 0.5117\n",
            "Epoch 18/40\n",
            "250/250 [==============================] - 1s 6ms/step - loss: 1.0848 - accuracy: 0.6120 - val_loss: 1.4147 - val_accuracy: 0.5086\n",
            "Epoch 19/40\n",
            "250/250 [==============================] - 1s 5ms/step - loss: 1.0729 - accuracy: 0.6157 - val_loss: 1.4146 - val_accuracy: 0.5081\n",
            "Epoch 20/40\n",
            "250/250 [==============================] - 1s 5ms/step - loss: 1.0651 - accuracy: 0.6155 - val_loss: 1.4181 - val_accuracy: 0.5117\n",
            "Epoch 21/40\n",
            "250/250 [==============================] - 2s 7ms/step - loss: 1.0671 - accuracy: 0.6166 - val_loss: 1.4153 - val_accuracy: 0.5201\n",
            "Epoch 22/40\n",
            "250/250 [==============================] - 1s 6ms/step - loss: 1.0500 - accuracy: 0.6207 - val_loss: 1.4032 - val_accuracy: 0.5144\n",
            "Epoch 23/40\n",
            "250/250 [==============================] - 1s 5ms/step - loss: 1.0497 - accuracy: 0.6207 - val_loss: 1.4078 - val_accuracy: 0.5160\n",
            "Epoch 24/40\n",
            "250/250 [==============================] - 5s 20ms/step - loss: 1.0383 - accuracy: 0.6252 - val_loss: 1.4141 - val_accuracy: 0.5104\n",
            "Epoch 25/40\n",
            "250/250 [==============================] - 2s 8ms/step - loss: 1.0310 - accuracy: 0.6260 - val_loss: 1.4089 - val_accuracy: 0.5132\n",
            "Epoch 26/40\n",
            "250/250 [==============================] - 2s 7ms/step - loss: 1.0324 - accuracy: 0.6305 - val_loss: 1.4232 - val_accuracy: 0.5139\n",
            "Epoch 27/40\n",
            "250/250 [==============================] - 1s 6ms/step - loss: 1.0203 - accuracy: 0.6306 - val_loss: 1.4256 - val_accuracy: 0.5080\n",
            "Epoch 28/40\n",
            "250/250 [==============================] - 2s 6ms/step - loss: 1.0201 - accuracy: 0.6336 - val_loss: 1.4252 - val_accuracy: 0.5094\n",
            "Epoch 29/40\n",
            "250/250 [==============================] - 2s 7ms/step - loss: 1.0124 - accuracy: 0.6372 - val_loss: 1.4327 - val_accuracy: 0.5051\n",
            "Epoch 30/40\n",
            "250/250 [==============================] - 1s 5ms/step - loss: 1.0074 - accuracy: 0.6386 - val_loss: 1.4346 - val_accuracy: 0.5178\n",
            "Epoch 31/40\n",
            "250/250 [==============================] - 1s 6ms/step - loss: 1.0047 - accuracy: 0.6403 - val_loss: 1.4298 - val_accuracy: 0.5059\n",
            "Epoch 32/40\n",
            "250/250 [==============================] - 2s 8ms/step - loss: 0.9917 - accuracy: 0.6426 - val_loss: 1.4451 - val_accuracy: 0.5086\n",
            "Epoch 33/40\n",
            "250/250 [==============================] - 3s 13ms/step - loss: 0.9964 - accuracy: 0.6438 - val_loss: 1.4191 - val_accuracy: 0.5123\n",
            "Epoch 34/40\n",
            "250/250 [==============================] - 4s 15ms/step - loss: 0.9850 - accuracy: 0.6438 - val_loss: 1.4447 - val_accuracy: 0.5100\n",
            "Epoch 35/40\n",
            "250/250 [==============================] - 2s 6ms/step - loss: 0.9824 - accuracy: 0.6467 - val_loss: 1.4468 - val_accuracy: 0.5061\n",
            "Epoch 36/40\n",
            "250/250 [==============================] - 1s 5ms/step - loss: 0.9801 - accuracy: 0.6475 - val_loss: 1.4473 - val_accuracy: 0.5124\n",
            "Epoch 37/40\n",
            "250/250 [==============================] - 2s 6ms/step - loss: 0.9709 - accuracy: 0.6538 - val_loss: 1.4470 - val_accuracy: 0.5173\n",
            "Epoch 38/40\n",
            "250/250 [==============================] - 1s 5ms/step - loss: 0.9582 - accuracy: 0.6558 - val_loss: 1.4559 - val_accuracy: 0.5135\n",
            "Epoch 39/40\n",
            "250/250 [==============================] - 1s 6ms/step - loss: 0.9531 - accuracy: 0.6579 - val_loss: 1.4579 - val_accuracy: 0.5135\n",
            "Epoch 40/40\n",
            "250/250 [==============================] - 3s 14ms/step - loss: 0.9630 - accuracy: 0.6530 - val_loss: 1.4449 - val_accuracy: 0.5151\n"
          ]
        }
      ],
      "source": [
        "# training\n",
        "network_history = model.fit(X_train, Y_train, \n",
        "                            validation_data=(X_valid,Y_valid),\n",
        "                            batch_size=128,                             \n",
        "                            epochs=40, \n",
        "                            verbose=1)"
      ]
    },
    {
      "cell_type": "markdown",
      "metadata": {
        "id": "j1tGVPdD-pp3"
      },
      "source": [
        "# 2.3. Exercise\n",
        "Based on the modifications above, and by any further modifications (e.g. more layers, less layers, more neurons/layer, etc.) to the model design, find a combination that is able to achieve **validation accuracy, that is higher \n",
        "than 53%**.\n"
      ]
    },
    {
      "cell_type": "code",
      "execution_count": null,
      "metadata": {
        "id": "5dBQxJHIHrbd"
      },
      "outputs": [],
      "source": [
        "es = EarlyStopping(monitor='val_loss', mode='min', verbose=3, patience=40, restore_best_weights=True)"
      ]
    },
    {
      "cell_type": "code",
      "execution_count": null,
      "metadata": {
        "id": "PuxHOqLt-3Nd"
      },
      "outputs": [],
      "source": [
        "# model definition with relu\n",
        "from tensorflow.keras.initializers import HeUniform\n",
        "\n",
        "model = Sequential()\n",
        "model.add(Dense(512, activation='relu', kernel_initializer=HeUniform(), input_shape=(flattened_dim,)))\n",
        "model.add(Dropout(0.2))\n",
        "model.add(Dense(512, activation='relu', kernel_initializer=HeUniform()))\n",
        "# Implement dropout\n",
        "model.add(Dropout(0.2))\n",
        "model.add(Dense(256, activation='relu', kernel_initializer=HeUniform()))\n",
        "model.add(Dense(256, activation='relu', kernel_initializer=HeUniform()))\n",
        "model.add(Dense(128, activation='relu', kernel_initializer=HeUniform()))\n",
        "model.add(Dense(128, activation='relu', kernel_initializer=HeUniform()))\n",
        "model.add(Dense(128, activation='relu', kernel_initializer=HeUniform()))\n",
        "model.add(Dense(64, activation='relu', kernel_initializer=HeUniform()))\n",
        "model.add(Dense(nb_classes, activation='softmax'))\n",
        "\n",
        "# loss function and optimizer\n",
        "model.compile(loss='categorical_crossentropy', optimizer='adam', metrics=['accuracy'])"
      ]
    },
    {
      "cell_type": "code",
      "execution_count": null,
      "metadata": {
        "id": "u8tFNCNVHyt9",
        "outputId": "2e801053-f1d1-4dc3-fbd9-7fd450eaa9f1"
      },
      "outputs": [
        {
          "name": "stdout",
          "output_type": "stream",
          "text": [
            "Epoch 1/100\n",
            "1000/1000 [==============================] - 44s 25ms/step - loss: 1.9484 - accuracy: 0.3040 - val_loss: 1.7902 - val_accuracy: 0.3629\n",
            "Epoch 2/100\n",
            "1000/1000 [==============================] - 21s 21ms/step - loss: 1.7385 - accuracy: 0.3783 - val_loss: 1.7140 - val_accuracy: 0.3842\n",
            "Epoch 3/100\n",
            "1000/1000 [==============================] - 19s 19ms/step - loss: 1.6512 - accuracy: 0.4077 - val_loss: 1.6269 - val_accuracy: 0.4161\n",
            "Epoch 4/100\n",
            "1000/1000 [==============================] - 19s 19ms/step - loss: 1.5846 - accuracy: 0.4398 - val_loss: 1.5966 - val_accuracy: 0.4355\n",
            "Epoch 5/100\n",
            "1000/1000 [==============================] - 23s 23ms/step - loss: 1.5337 - accuracy: 0.4543 - val_loss: 1.5662 - val_accuracy: 0.4478\n",
            "Epoch 6/100\n",
            "1000/1000 [==============================] - 31s 31ms/step - loss: 1.4891 - accuracy: 0.4749 - val_loss: 1.5432 - val_accuracy: 0.4384\n",
            "Epoch 7/100\n",
            "1000/1000 [==============================] - 23s 23ms/step - loss: 1.4426 - accuracy: 0.4910 - val_loss: 1.5390 - val_accuracy: 0.4509\n",
            "Epoch 8/100\n",
            "1000/1000 [==============================] - 20s 20ms/step - loss: 1.4075 - accuracy: 0.5020 - val_loss: 1.4965 - val_accuracy: 0.4719\n",
            "Epoch 9/100\n",
            "1000/1000 [==============================] - 18s 18ms/step - loss: 1.3705 - accuracy: 0.5131 - val_loss: 1.4517 - val_accuracy: 0.4894\n",
            "Epoch 10/100\n",
            "1000/1000 [==============================] - 18s 18ms/step - loss: 1.3349 - accuracy: 0.5312 - val_loss: 1.4392 - val_accuracy: 0.5004\n",
            "Epoch 11/100\n",
            "1000/1000 [==============================] - 22s 22ms/step - loss: 1.3133 - accuracy: 0.5367 - val_loss: 1.4383 - val_accuracy: 0.5031\n",
            "Epoch 12/100\n",
            "1000/1000 [==============================] - 19s 19ms/step - loss: 1.2708 - accuracy: 0.5537 - val_loss: 1.4196 - val_accuracy: 0.5030\n",
            "Epoch 13/100\n",
            "1000/1000 [==============================] - 19s 19ms/step - loss: 1.2450 - accuracy: 0.5583 - val_loss: 1.4229 - val_accuracy: 0.5056\n",
            "Epoch 14/100\n",
            "1000/1000 [==============================] - 21s 20ms/step - loss: 1.2187 - accuracy: 0.5698 - val_loss: 1.4115 - val_accuracy: 0.5029\n",
            "Epoch 15/100\n",
            "1000/1000 [==============================] - 18s 18ms/step - loss: 1.1880 - accuracy: 0.5806 - val_loss: 1.4266 - val_accuracy: 0.5023\n",
            "Epoch 16/100\n",
            "1000/1000 [==============================] - 17s 17ms/step - loss: 1.1716 - accuracy: 0.5857 - val_loss: 1.4281 - val_accuracy: 0.5055\n",
            "Epoch 17/100\n",
            "1000/1000 [==============================] - 18s 18ms/step - loss: 1.1479 - accuracy: 0.5939 - val_loss: 1.4172 - val_accuracy: 0.5095\n",
            "Epoch 18/100\n",
            "1000/1000 [==============================] - 19s 19ms/step - loss: 1.1226 - accuracy: 0.6029 - val_loss: 1.4384 - val_accuracy: 0.5046\n",
            "Epoch 19/100\n",
            "1000/1000 [==============================] - 18s 18ms/step - loss: 1.0949 - accuracy: 0.6156 - val_loss: 1.3947 - val_accuracy: 0.5268\n",
            "Epoch 20/100\n",
            "1000/1000 [==============================] - 18s 18ms/step - loss: 1.0844 - accuracy: 0.6141 - val_loss: 1.4407 - val_accuracy: 0.5123\n",
            "Epoch 21/100\n",
            "1000/1000 [==============================] - 25s 25ms/step - loss: 1.0612 - accuracy: 0.6268 - val_loss: 1.4224 - val_accuracy: 0.5171\n",
            "Epoch 22/100\n",
            "1000/1000 [==============================] - 20s 20ms/step - loss: 1.0342 - accuracy: 0.6362 - val_loss: 1.3922 - val_accuracy: 0.5270\n",
            "Epoch 23/100\n",
            "1000/1000 [==============================] - 23s 23ms/step - loss: 1.0139 - accuracy: 0.6420 - val_loss: 1.4523 - val_accuracy: 0.5190\n",
            "Epoch 24/100\n",
            "1000/1000 [==============================] - 20s 20ms/step - loss: 0.9997 - accuracy: 0.6491 - val_loss: 1.4458 - val_accuracy: 0.5222\n",
            "Epoch 25/100\n",
            "1000/1000 [==============================] - 19s 19ms/step - loss: 0.9864 - accuracy: 0.6571 - val_loss: 1.4340 - val_accuracy: 0.5203\n",
            "Epoch 26/100\n",
            "1000/1000 [==============================] - 19s 19ms/step - loss: 0.9633 - accuracy: 0.6598 - val_loss: 1.4311 - val_accuracy: 0.5261\n",
            "Epoch 27/100\n",
            "1000/1000 [==============================] - 22s 22ms/step - loss: 0.9507 - accuracy: 0.6660 - val_loss: 1.4666 - val_accuracy: 0.5131\n",
            "Epoch 28/100\n",
            "1000/1000 [==============================] - 19s 19ms/step - loss: 0.9369 - accuracy: 0.6715 - val_loss: 1.4572 - val_accuracy: 0.5315\n",
            "Epoch 29/100\n",
            "1000/1000 [==============================] - 21s 21ms/step - loss: 0.9170 - accuracy: 0.6772 - val_loss: 1.4527 - val_accuracy: 0.5241\n",
            "Epoch 30/100\n",
            "1000/1000 [==============================] - 20s 20ms/step - loss: 0.9037 - accuracy: 0.6837 - val_loss: 1.4577 - val_accuracy: 0.5321\n",
            "Epoch 31/100\n",
            "1000/1000 [==============================] - 19s 19ms/step - loss: 0.8813 - accuracy: 0.6910 - val_loss: 1.4748 - val_accuracy: 0.5318\n",
            "Epoch 32/100\n",
            "1000/1000 [==============================] - 20s 20ms/step - loss: 0.8670 - accuracy: 0.6977 - val_loss: 1.4976 - val_accuracy: 0.5257\n",
            "Epoch 33/100\n",
            "1000/1000 [==============================] - 20s 20ms/step - loss: 0.8642 - accuracy: 0.6995 - val_loss: 1.4711 - val_accuracy: 0.5314\n",
            "Epoch 34/100\n",
            "1000/1000 [==============================] - 30s 30ms/step - loss: 0.8471 - accuracy: 0.7059 - val_loss: 1.4992 - val_accuracy: 0.5320\n",
            "Epoch 35/100\n",
            "1000/1000 [==============================] - 26s 26ms/step - loss: 0.8376 - accuracy: 0.7078 - val_loss: 1.5241 - val_accuracy: 0.5245\n",
            "Epoch 36/100\n",
            "1000/1000 [==============================] - 23s 23ms/step - loss: 0.8192 - accuracy: 0.7133 - val_loss: 1.5125 - val_accuracy: 0.5301\n",
            "Epoch 37/100\n",
            "1000/1000 [==============================] - 22s 22ms/step - loss: 0.7995 - accuracy: 0.7224 - val_loss: 1.4998 - val_accuracy: 0.5296\n",
            "Epoch 38/100\n",
            "1000/1000 [==============================] - 22s 22ms/step - loss: 0.7893 - accuracy: 0.7249 - val_loss: 1.5110 - val_accuracy: 0.5290\n",
            "Epoch 39/100\n",
            "1000/1000 [==============================] - 19s 19ms/step - loss: 0.7726 - accuracy: 0.7326 - val_loss: 1.5254 - val_accuracy: 0.5334\n",
            "Epoch 40/100\n",
            "1000/1000 [==============================] - 21s 21ms/step - loss: 0.7731 - accuracy: 0.7334 - val_loss: 1.4854 - val_accuracy: 0.5259\n",
            "Epoch 41/100\n",
            "1000/1000 [==============================] - 25s 25ms/step - loss: 0.7663 - accuracy: 0.7321 - val_loss: 1.5507 - val_accuracy: 0.5378\n",
            "Epoch 42/100\n",
            "1000/1000 [==============================] - 31s 31ms/step - loss: 0.7457 - accuracy: 0.7445 - val_loss: 1.5365 - val_accuracy: 0.5347\n",
            "Epoch 43/100\n",
            "1000/1000 [==============================] - 22s 22ms/step - loss: 0.7426 - accuracy: 0.7426 - val_loss: 1.5671 - val_accuracy: 0.5291\n",
            "Epoch 44/100\n",
            "1000/1000 [==============================] - 20s 20ms/step - loss: 0.7359 - accuracy: 0.7468 - val_loss: 1.5983 - val_accuracy: 0.5264\n",
            "Epoch 45/100\n",
            "1000/1000 [==============================] - 19s 19ms/step - loss: 0.7255 - accuracy: 0.7482 - val_loss: 1.5409 - val_accuracy: 0.5261\n",
            "Epoch 46/100\n",
            "1000/1000 [==============================] - 21s 21ms/step - loss: 0.7142 - accuracy: 0.7552 - val_loss: 1.5475 - val_accuracy: 0.5354\n",
            "Epoch 47/100\n",
            "1000/1000 [==============================] - 21s 21ms/step - loss: 0.7021 - accuracy: 0.7604 - val_loss: 1.6447 - val_accuracy: 0.5307\n",
            "Epoch 48/100\n",
            "1000/1000 [==============================] - 20s 20ms/step - loss: 0.6988 - accuracy: 0.7611 - val_loss: 1.6068 - val_accuracy: 0.5294\n",
            "Epoch 49/100\n",
            "1000/1000 [==============================] - 21s 21ms/step - loss: 0.6785 - accuracy: 0.7678 - val_loss: 1.6037 - val_accuracy: 0.5271\n",
            "Epoch 50/100\n",
            "1000/1000 [==============================] - 20s 20ms/step - loss: 0.6729 - accuracy: 0.7690 - val_loss: 1.6161 - val_accuracy: 0.5280\n",
            "Epoch 51/100\n",
            "1000/1000 [==============================] - 19s 19ms/step - loss: 0.6666 - accuracy: 0.7685 - val_loss: 1.5925 - val_accuracy: 0.5375\n",
            "Epoch 52/100\n",
            "1000/1000 [==============================] - 20s 20ms/step - loss: 0.6551 - accuracy: 0.7762 - val_loss: 1.6010 - val_accuracy: 0.5332\n",
            "Epoch 53/100\n",
            "1000/1000 [==============================] - 20s 20ms/step - loss: 0.6482 - accuracy: 0.7741 - val_loss: 1.6733 - val_accuracy: 0.5225\n",
            "Epoch 54/100\n",
            "1000/1000 [==============================] - 19s 19ms/step - loss: 0.6441 - accuracy: 0.7805 - val_loss: 1.6019 - val_accuracy: 0.5312\n",
            "Epoch 55/100\n",
            "1000/1000 [==============================] - 20s 20ms/step - loss: 0.6319 - accuracy: 0.7853 - val_loss: 1.6615 - val_accuracy: 0.5286\n",
            "Epoch 56/100\n",
            "1000/1000 [==============================] - 21s 21ms/step - loss: 0.6247 - accuracy: 0.7862 - val_loss: 1.6172 - val_accuracy: 0.5335\n",
            "Epoch 57/100\n",
            "1000/1000 [==============================] - 19s 19ms/step - loss: 0.6120 - accuracy: 0.7885 - val_loss: 1.5916 - val_accuracy: 0.5325\n",
            "Epoch 58/100\n",
            "1000/1000 [==============================] - 19s 19ms/step - loss: 0.6061 - accuracy: 0.7962 - val_loss: 1.6526 - val_accuracy: 0.5322\n",
            "Epoch 59/100\n",
            "1000/1000 [==============================] - 20s 20ms/step - loss: 0.6029 - accuracy: 0.7933 - val_loss: 1.6322 - val_accuracy: 0.5394\n",
            "Epoch 60/100\n",
            "1000/1000 [==============================] - 20s 20ms/step - loss: 0.5951 - accuracy: 0.7980 - val_loss: 1.7313 - val_accuracy: 0.5309\n",
            "Epoch 61/100\n",
            "1000/1000 [==============================] - 19s 19ms/step - loss: 0.5857 - accuracy: 0.8025 - val_loss: 1.6589 - val_accuracy: 0.5355\n",
            "Epoch 62/100\n",
            " 998/1000 [============================>.] - ETA: 0s - loss: 0.5848 - accuracy: 0.8029Restoring model weights from the end of the best epoch: 22.\n",
            "1000/1000 [==============================] - 20s 20ms/step - loss: 0.5847 - accuracy: 0.8029 - val_loss: 1.6607 - val_accuracy: 0.5332\n",
            "Epoch 62: early stopping\n"
          ]
        }
      ],
      "source": [
        "\n",
        "# training\n",
        "network_history = model.fit(X_train, Y_train, \n",
        "                            validation_data=(X_valid,Y_valid),\n",
        "                            batch_size=32,                             \n",
        "                            epochs=100, \n",
        "                            verbose=1, \n",
        "                            callbacks=[es])"
      ]
    },
    {
      "cell_type": "markdown",
      "metadata": {
        "id": "2FtKp-a2-A9m"
      },
      "source": [
        "# 3. Evaluation on test data and inference\n",
        "At this point, we will perform a basic evaluation and inference. With the model.evaluate function, the same metrics are calculated, that were used during training:"
      ]
    },
    {
      "cell_type": "code",
      "execution_count": null,
      "metadata": {
        "id": "I3_9wgDREUna",
        "outputId": "f2a1df47-d4f2-434f-da7b-6cee8db61d7d"
      },
      "outputs": [
        {
          "name": "stdout",
          "output_type": "stream",
          "text": [
            "313/313 [==============================] - 4s 9ms/step - loss: 1.3732 - accuracy: 0.5355\n",
            "[1.3732308149337769, 0.5354999899864197]\n"
          ]
        }
      ],
      "source": [
        "print(model.evaluate(X_test, Y_test))"
      ]
    },
    {
      "cell_type": "markdown",
      "metadata": {
        "id": "ECHguBFtGL7f"
      },
      "source": [
        "we would like to see similar values, as in the validation set. If those are close to each other, then the generalization ability of the model is good (in case of an independent test-set)."
      ]
    },
    {
      "cell_type": "markdown",
      "metadata": {
        "id": "0Io4zYJeHjz6"
      },
      "source": [
        "## 3.1. Exercise\n",
        "Predict the class of the first 10 elements in the test set, and compare the predicted values with the actual, target values in the test set. Hints:\n",
        "* you can use [model.predict](https://www.activestate.com/resources/quick-reads/how-to-use-a-model-to-do-predictions-with-keras/) for prediction\n",
        "* from the output you can select the largest value with the [argmax() function of Numpy](https://stackoverflow.com/questions/62358642/convert-one-hot-encoding-back-to-number-label). As there are multiple values, you have to call it with axis=1 parameter.\n",
        "* it is enought to compare the predictions and the targets by printing the values out and inspecting them."
      ]
    },
    {
      "cell_type": "code",
      "execution_count": null,
      "metadata": {
        "id": "XEEyU7exILqF",
        "outputId": "659b0964-b156-4242-bcc2-33b7629eada3"
      },
      "outputs": [
        {
          "name": "stdout",
          "output_type": "stream",
          "text": [
            "1/1 [==============================] - 1s 1s/step\n"
          ]
        }
      ],
      "source": [
        "preds = model.predict(X_test[:10])\n",
        "preds_dense = np.argmax(preds, axis=1)"
      ]
    },
    {
      "cell_type": "markdown",
      "metadata": {
        "id": "seZTEFI-I5cZ"
      },
      "source": [
        "Before comparision, you have to convert back the one-hot encoded target values the same way, as you converted the output of the neural network to class values with argmax() function."
      ]
    },
    {
      "cell_type": "code",
      "execution_count": null,
      "metadata": {
        "id": "PHLvoMuIIkJ6",
        "outputId": "8c37ad8a-a654-4402-8674-37a17e51cbd0"
      },
      "outputs": [
        {
          "name": "stdout",
          "output_type": "stream",
          "text": [
            "Target labels: [3 8 8 0 6 6 1 6 3 1]\n",
            "Predicted labels: [3 8 8 8 4 6 1 6 3 1]\n"
          ]
        }
      ],
      "source": [
        "print(\"Target labels:\", np.argmax(Y_test[:10],axis=1))\n",
        "print(\"Predicted labels:\", preds_dense)"
      ]
    },
    {
      "cell_type": "code",
      "execution_count": null,
      "metadata": {
        "id": "2swyQyi4_FFJ"
      },
      "outputs": [],
      "source": []
    }
  ],
  "metadata": {
    "accelerator": "GPU",
    "anaconda-cloud": {},
    "colab": {
      "provenance": [],
      "include_colab_link": true
    },
    "kernelspec": {
      "display_name": "Python 3",
      "language": "python",
      "name": "python3"
    },
    "language_info": {
      "codemirror_mode": {
        "name": "ipython",
        "version": 3
      },
      "file_extension": ".py",
      "mimetype": "text/x-python",
      "name": "python",
      "nbconvert_exporter": "python",
      "pygments_lexer": "ipython3",
      "version": "3.9.13"
    }
  },
  "nbformat": 4,
  "nbformat_minor": 0
}