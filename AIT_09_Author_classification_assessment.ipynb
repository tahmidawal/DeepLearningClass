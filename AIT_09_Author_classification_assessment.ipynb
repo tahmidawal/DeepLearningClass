{
  "nbformat": 4,
  "nbformat_minor": 0,
  "metadata": {
    "kernelspec": {
      "display_name": "Python 3",
      "language": "python",
      "name": "python3"
    },
    "language_info": {
      "codemirror_mode": {
        "name": "ipython",
        "version": 3
      },
      "file_extension": ".py",
      "mimetype": "text/x-python",
      "name": "python",
      "nbconvert_exporter": "python",
      "pygments_lexer": "ipython3",
      "version": "3.6.6"
    },
    "colab": {
      "provenance": [],
      "include_colab_link": true
    },
    "accelerator": "GPU",
    "gpuClass": "standard"
  },
  "cells": [
    {
      "cell_type": "markdown",
      "metadata": {
        "id": "view-in-github",
        "colab_type": "text"
      },
      "source": [
        "<a href=\"https://colab.research.google.com/github/tahmidawal/DeepLearningClass/blob/main/AIT_09_Author_classification_assessment.ipynb\" target=\"_parent\"><img src=\"https://colab.research.google.com/assets/colab-badge.svg\" alt=\"Open In Colab\"/></a>"
      ]
    },
    {
      "cell_type": "markdown",
      "metadata": {
        "id": "_jiGtJu6u9ml"
      },
      "source": [
        "# Copyright\n",
        "\n",
        "<PRE>\n",
        "Copyright (c) 2023 Bálint Gyires-Tóth - All Rights Reserved\n",
        "You may use and modify this code for research and development purpuses.\n",
        "Use this code for educational purposes (self-paced or instructor led) without the permission of the author is prohibited.\n",
        "</PRE>"
      ]
    },
    {
      "cell_type": "markdown",
      "metadata": {
        "id": "oXyFC44jV-PP"
      },
      "source": [
        "# Author classification\n",
        "The task is to train a 1D CNN or an LSTM that is able to  classify text from two authors. The final model should be able to tell about a text with a given length (e.g. 60 characters) who wrote it. \n",
        "\n",
        "Please write the codes according to the following parts:"
      ]
    },
    {
      "cell_type": "markdown",
      "metadata": {
        "id": "jCnLoeGrHXsp"
      },
      "source": [
        "## Python module imports\n",
        "Import all Python modules that you would need during the Assignment."
      ]
    },
    {
      "cell_type": "code",
      "metadata": {
        "id": "7itbFGt3HXVT"
      },
      "source": [
        "import numpy as np\n",
        "import requests\n",
        "from bs4 import BeautifulSoup\n",
        "import re\n",
        "from keras.preprocessing.text import Tokenizer\n",
        "from sklearn.model_selection import train_test_split\n",
        "from keras.models import Sequential\n",
        "from keras.layers import Embedding, LSTM, Dense\n",
        "from keras.callbacks import EarlyStopping\n"
      ],
      "execution_count": 1,
      "outputs": []
    },
    {
      "cell_type": "markdown",
      "metadata": {
        "id": "Hr617tEpHd8R"
      },
      "source": [
        "## Data acquisition\n",
        "Seek a possible dataset, you can use any source, e.g.\n",
        "* http://www.gutenberg.org/\n",
        "* https://www.kaggle.com/datasets\n",
        "* https://paperswithcode.com/datasets\n",
        "* if you would like to learn Hungarian, than e.g. https://mek.oszk.hu/\n",
        "\n",
        "You can download the text by hand (e.g. by copy-pasting some parts into txt files) or with Python. "
      ]
    },
    {
      "cell_type": "code",
      "metadata": {
        "id": "NgkdQxHqHdZB"
      },
      "source": [
        "poe_url = \"https://www.gutenberg.org/files/2147/2147-0.txt\"\n",
        "lovecraft_url = \"https://www.gutenberg.org/files/40637/40637-0.txt\"\n",
        "\n",
        "poe_text = requests.get(poe_url).text\n",
        "lovecraft_text = requests.get(lovecraft_url).text"
      ],
      "execution_count": 2,
      "outputs": []
    },
    {
      "cell_type": "code",
      "source": [
        "# Clean the texts\n",
        "def clean_text(text):\n",
        "    soup = BeautifulSoup(text, \"html.parser\")\n",
        "    text = soup.get_text()\n",
        "    text = re.sub(r'\\s+', ' ', text)\n",
        "    text = text.strip().lower()\n",
        "    return text\n",
        "\n",
        "poe_text = clean_text(poe_text)\n",
        "lovecraft_text = clean_text(lovecraft_text)\n",
        "\n",
        "# Combine the texts and tokenize the characters\n",
        "texts = [poe_text, lovecraft_text]\n",
        "labels = [0, 1]  # 0 for Poe, 1 for Lovecraft\n",
        "\n",
        "tokenizer = Tokenizer(char_level=True)\n",
        "tokenizer.fit_on_texts(texts)\n",
        "alphabet_length = len(tokenizer.word_index)\n",
        "\n",
        "sequences = tokenizer.texts_to_sequences(texts)"
      ],
      "metadata": {
        "id": "rqJJqa02jB6c"
      },
      "execution_count": 3,
      "outputs": []
    },
    {
      "cell_type": "markdown",
      "source": [
        "## Data analysis\n",
        "Count the number of characters from both authors and display them on a plot (e.g. Seaborn's countplot)."
      ],
      "metadata": {
        "id": "U9Pmq91t3SRD"
      }
    },
    {
      "cell_type": "code",
      "source": [
        "import matplotlib.pyplot as plt\n",
        "import seaborn as sns\n",
        "\n",
        "#Calculate character count for each author\n",
        "char_count_poe = len(poe_text)\n",
        "char_count_lovecraft = len(lovecraft_text)\n",
        "\n",
        "#Prepare data for the countplot\n",
        "author_labels = ['Poe', 'Lovecraft']\n",
        "char_count_data = [char_count_poe, char_count_lovecraft]\n",
        "\n",
        "#Create a Seaborn barplot\n",
        "sns.barplot(x=author_labels, y=char_count_data)\n",
        "plt.ylabel('Character Count')\n",
        "plt.title('Character Count Comparison between Authors')\n",
        "plt.show()"
      ],
      "metadata": {
        "id": "uRqGdn4F3Spk",
        "colab": {
          "base_uri": "https://localhost:8080/",
          "height": 452
        },
        "outputId": "eeb896a5-4c65-49fa-ac1a-0aa14a628d15"
      },
      "execution_count": 4,
      "outputs": [
        {
          "output_type": "display_data",
          "data": {
            "text/plain": [
              "<Figure size 640x480 with 1 Axes>"
            ],
            "image/png": "[encoded data removed]"
          },
          "metadata": {}
        }
      ]
    },
    {
      "cell_type": "markdown",
      "metadata": {
        "id": "cHyE_ndGIblJ"
      },
      "source": [
        "## Data loading, labeling and preprocessing\n",
        "Load the data and convert the characters into one-hot encodings. Then load the data into a 3D NumPy array, with a shape of\n",
        "\n",
        "* (batch, sequence_length, alphabet_length)\n",
        "\n",
        "where sequence_length=60, and alphabet_length equals to the number of unique characters in both datasets. The sequences should be cut out from the complete dataset by sliding window. You should add 0 and 1 labels to the sequences, according to the author. \n",
        "\n",
        "Later you may change sequence_length to achieve better results!"
      ]
    },
    {
      "cell_type": "code",
      "source": [
        "import numpy as np\n",
        "\n",
        "def sliding_window(text, label, sequence_length):\n",
        "    num_sequences = len(text) - sequence_length + 1\n",
        "    X = np.zeros((num_sequences, sequence_length))\n",
        "    y = np.full((num_sequences, 1), label)\n",
        "\n",
        "    for i in range(num_sequences):\n",
        "        X[i] = text[i:i + sequence_length]\n",
        "\n",
        "    return X, y\n",
        "\n",
        "sequence_length = 60\n",
        "\n",
        "X_poe, y_poe = sliding_window(sequences[0], labels[0], sequence_length)\n",
        "X_lovecraft, y_lovecraft = sliding_window(sequences[1], labels[1], sequence_length)\n",
        "\n",
        "X = np.concatenate((X_poe, X_lovecraft))\n",
        "y = np.concatenate((y_poe, y_lovecraft))\n"
      ],
      "metadata": {
        "id": "7jp4O9ALgKK3"
      },
      "execution_count": 5,
      "outputs": []
    },
    {
      "cell_type": "markdown",
      "metadata": {
        "id": "lL1Mc8ibHnep"
      },
      "source": [
        "## Data splitting\n",
        "Split the data into train, validate and test sets. Make "
      ]
    },
    {
      "cell_type": "code",
      "source": [
        "# Split the tokenized data into train, validation, and test sets\n",
        "X_tokenized_train, X_tokenized_temp, y_train, y_temp = train_test_split(X, y, test_size=0.3, random_state=42)\n",
        "X_tokenized_val, X_tokenized_test, y_val, y_test = train_test_split(X_tokenized_temp, y_temp, test_size=0.5, random_state=42)"
      ],
      "metadata": {
        "id": "l532Exg0dfzh"
      },
      "execution_count": 6,
      "outputs": []
    },
    {
      "cell_type": "markdown",
      "metadata": {
        "id": "hA8U9tr7HrNQ"
      },
      "source": [
        "## Model definition\n",
        "Define a 1D CNN or an LSTM for the task. Compile the model with the correct loss function."
      ]
    },
    {
      "cell_type": "code",
      "metadata": {
        "id": "BT1V1s4kHuUe",
        "colab": {
          "base_uri": "https://localhost:8080/"
        },
        "outputId": "81eb66a4-fa67-41ef-b989-e4f979cbfc74"
      },
      "source": [
        "from tensorflow.keras.models import Sequential\n",
        "from tensorflow.keras.layers import Embedding, LSTM, Dense\n",
        "\n",
        "# Define the LSTM model with the Embedding layer\n",
        "def build_lstm_model(sequence_length, alphabet_length):\n",
        "    model = Sequential()\n",
        "    model.add(Embedding(alphabet_length + 1, 32, input_length=sequence_length))\n",
        "    model.add(LSTM(64, dropout=0.2, recurrent_dropout=0.2))\n",
        "    model.add(Dense(1, activation='sigmoid'))\n",
        "    return model\n",
        "\n",
        "model = build_lstm_model(sequence_length, alphabet_length)\n"
      ],
      "execution_count": 7,
      "outputs": [
        {
          "output_type": "stream",
          "name": "stderr",
          "text": [
            "WARNING:tensorflow:Layer lstm will not use cuDNN kernels since it doesn't meet the criteria. It will use a generic GPU kernel as fallback when running on GPU.\n"
          ]
        }
      ]
    },
    {
      "cell_type": "markdown",
      "metadata": {
        "id": "hWFb-nAMHuAI"
      },
      "source": [
        "## Model training\n",
        "Train the model and apply early stopping."
      ]
    },
    {
      "cell_type": "code",
      "metadata": {
        "id": "dvgKjqp3Hwkp",
        "colab": {
          "base_uri": "https://localhost:8080/"
        },
        "outputId": "455d393f-19ec-42b6-fc6b-b25436d0a554"
      },
      "source": [
        "# Compile the model with the correct loss function\n",
        "model.compile(loss='binary_crossentropy', optimizer='adam', metrics=['accuracy'])\n",
        "\n",
        "# Train the model and apply early stopping\n",
        "early_stopping = EarlyStopping(monitor='val_loss', patience=3, restore_best_weights=True)\n",
        "\n",
        "history = model.fit(X_tokenized_train, y_train, validation_data=(X_tokenized_val, y_val), epochs=1, batch_size=256, callbacks=[early_stopping])"
      ],
      "execution_count": 9,
      "outputs": [
        {
          "output_type": "stream",
          "name": "stdout",
          "text": [
            "2349/2349 [==============================] - 646s 272ms/step - loss: 0.0980 - accuracy: 0.9683 - val_loss: 0.0681 - val_accuracy: 0.9740\n"
          ]
        }
      ]
    },
    {
      "cell_type": "markdown",
      "metadata": {
        "id": "0omw2XzSHwOo"
      },
      "source": [
        "## Evaluation on test data\n",
        "Evaluate the model on the test data in terms of loss and accuracy."
      ]
    },
    {
      "cell_type": "code",
      "metadata": {
        "id": "4bF3dQA1Hv_R",
        "colab": {
          "base_uri": "https://localhost:8080/"
        },
        "outputId": "692070cf-5deb-4e4f-cbf8-e154201c60f6"
      },
      "source": [
        "# Evaluate the model on the test data\n",
        "loss, accuracy = model.evaluate(X_tokenized_test, y_test)\n",
        "print(f\"Test loss: {loss:.4f}, Test accuracy: {accuracy:.4f}\")"
      ],
      "execution_count": 10,
      "outputs": [
        {
          "output_type": "stream",
          "name": "stdout",
          "text": [
            "4027/4027 [==============================] - 84s 21ms/step - loss: 0.0668 - accuracy: 0.9744\n",
            "Test loss: 0.0668, Test accuracy: 0.9744\n"
          ]
        }
      ]
    },
    {
      "cell_type": "markdown",
      "metadata": {
        "id": "4Y73Q-h5Hz1r"
      },
      "source": [
        "## Confusion matrix\n",
        "Calculate and display the confusion matrix."
      ]
    },
    {
      "cell_type": "code",
      "metadata": {
        "id": "cW8zZi1uJm2B",
        "colab": {
          "base_uri": "https://localhost:8080/",
          "height": 490
        },
        "outputId": "af86ff7c-0737-4a8e-e287-374b32647b72"
      },
      "source": [
        "from sklearn.metrics import confusion_matrix\n",
        "\n",
        "# Predict labels for the test data\n",
        "y_pred_proba = model.predict(X_tokenized_test)\n",
        "y_pred = np.round(y_pred_proba).astype(int)\n",
        "\n",
        "# Calculate the confusion matrix\n",
        "cm = confusion_matrix(y_test, y_pred)\n",
        "authors = ['Poe', 'Lovecraft']\n",
        "# Display the confusion matrix as a heatmap\n",
        "sns.heatmap(cm, annot=True, fmt='d', cmap='Blues', xticklabels=authors, yticklabels=authors)\n",
        "plt.xlabel('Predicted')\n",
        "plt.ylabel('True')\n",
        "plt.title('Confusion Matrix')\n",
        "plt.show()\n"
      ],
      "execution_count": 13,
      "outputs": [
        {
          "output_type": "stream",
          "name": "stdout",
          "text": [
            "4027/4027 [==============================] - 83s 21ms/step\n"
          ]
        },
        {
          "output_type": "display_data",
          "data": {
            "text/plain": [
              "<Figure size 640x480 with 2 Axes>"
            ],
            "image/png": "[encoded data removed]"
          },
          "metadata": {}
        }
      ]
    },
    {
      "cell_type": "code",
      "source": [
        "summary = f\"We developed a deep learning model to differentiate texts by Edgar Allan Poe and H.P. Lovecraft using 60-character input sequences, preprocessed and tokenized text, and trained an LSTM model with early stopping, achieving a test loss of {loss:.4f} and accuracy of {accuracy:.4f}; a confusion matrix visualized the results.\"\n",
        "print(summary)\n"
      ],
      "metadata": {
        "colab": {
          "base_uri": "https://localhost:8080/"
        },
        "id": "KPoF8atT25PE",
        "outputId": "0827f47c-7a81-418a-9370-74033ba883db"
      },
      "execution_count": 11,
      "outputs": [
        {
          "output_type": "stream",
          "name": "stdout",
          "text": [
            "We developed a deep learning model to differentiate texts by Edgar Allan Poe and H.P. Lovecraft using 60-character input sequences, preprocessed and tokenized text, and trained an LSTM model with early stopping, achieving a test loss of 0.0668 and accuracy of 0.9744; a confusion matrix visualized the results.\n"
          ]
        }
      ]
    },
    {
      "cell_type": "markdown",
      "source": [
        "I have used ChatGPT to solve this"
      ],
      "metadata": {
        "id": "QgGcR3FFZRep"
      }
    },
    {
      "cell_type": "code",
      "source": [],
      "metadata": {
        "id": "sxr-l5D0XqkQ"
      },
      "execution_count": null,
      "outputs": []
    }
  ]
}